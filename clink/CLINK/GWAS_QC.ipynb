{
 "cells": [
  {
   "cell_type": "code",
   "execution_count": 3,
   "metadata": {
    "collapsed": false,
    "scrolled": true
   },
   "outputs": [
    {
     "ename": "ImportError",
     "evalue": "No module named rpy2.ipython",
     "output_type": "error",
     "traceback": [
      "\u001b[0;31m---------------------------------------------------------------------------\u001b[0m",
      "\u001b[0;31mImportError\u001b[0m                               Traceback (most recent call last)",
      "\u001b[0;32m<ipython-input-3-261134f77704>\u001b[0m in \u001b[0;36m<module>\u001b[0;34m()\u001b[0m\n\u001b[1;32m      3\u001b[0m \u001b[0;32mimport\u001b[0m \u001b[0mpandas\u001b[0m \u001b[0;32mas\u001b[0m \u001b[0mpd\u001b[0m\u001b[0;34m\u001b[0m\u001b[0m\n\u001b[1;32m      4\u001b[0m \u001b[0;32mimport\u001b[0m \u001b[0mnumpy\u001b[0m \u001b[0;32mas\u001b[0m \u001b[0mnp\u001b[0m\u001b[0;34m\u001b[0m\u001b[0m\n\u001b[0;32m----> 5\u001b[0;31m \u001b[0mget_ipython\u001b[0m\u001b[0;34m(\u001b[0m\u001b[0;34m)\u001b[0m\u001b[0;34m.\u001b[0m\u001b[0mmagic\u001b[0m\u001b[0;34m(\u001b[0m\u001b[0;34mu'load_ext rpy2.ipython'\u001b[0m\u001b[0;34m)\u001b[0m\u001b[0;34m\u001b[0m\u001b[0m\n\u001b[0m",
      "\u001b[0;32m/Users/bryketos/anaconda/lib/python2.7/site-packages/IPython/core/interactiveshell.pyc\u001b[0m in \u001b[0;36mmagic\u001b[0;34m(self, arg_s)\u001b[0m\n\u001b[1;32m   2334\u001b[0m         \u001b[0mmagic_name\u001b[0m\u001b[0;34m,\u001b[0m \u001b[0m_\u001b[0m\u001b[0;34m,\u001b[0m \u001b[0mmagic_arg_s\u001b[0m \u001b[0;34m=\u001b[0m \u001b[0marg_s\u001b[0m\u001b[0;34m.\u001b[0m\u001b[0mpartition\u001b[0m\u001b[0;34m(\u001b[0m\u001b[0;34m' '\u001b[0m\u001b[0;34m)\u001b[0m\u001b[0;34m\u001b[0m\u001b[0m\n\u001b[1;32m   2335\u001b[0m         \u001b[0mmagic_name\u001b[0m \u001b[0;34m=\u001b[0m \u001b[0mmagic_name\u001b[0m\u001b[0;34m.\u001b[0m\u001b[0mlstrip\u001b[0m\u001b[0;34m(\u001b[0m\u001b[0mprefilter\u001b[0m\u001b[0;34m.\u001b[0m\u001b[0mESC_MAGIC\u001b[0m\u001b[0;34m)\u001b[0m\u001b[0;34m\u001b[0m\u001b[0m\n\u001b[0;32m-> 2336\u001b[0;31m         \u001b[0;32mreturn\u001b[0m \u001b[0mself\u001b[0m\u001b[0;34m.\u001b[0m\u001b[0mrun_line_magic\u001b[0m\u001b[0;34m(\u001b[0m\u001b[0mmagic_name\u001b[0m\u001b[0;34m,\u001b[0m \u001b[0mmagic_arg_s\u001b[0m\u001b[0;34m)\u001b[0m\u001b[0;34m\u001b[0m\u001b[0m\n\u001b[0m\u001b[1;32m   2337\u001b[0m \u001b[0;34m\u001b[0m\u001b[0m\n\u001b[1;32m   2338\u001b[0m     \u001b[0;31m#-------------------------------------------------------------------------\u001b[0m\u001b[0;34m\u001b[0m\u001b[0;34m\u001b[0m\u001b[0m\n",
      "\u001b[0;32m/Users/bryketos/anaconda/lib/python2.7/site-packages/IPython/core/interactiveshell.pyc\u001b[0m in \u001b[0;36mrun_line_magic\u001b[0;34m(self, magic_name, line)\u001b[0m\n\u001b[1;32m   2255\u001b[0m                 \u001b[0mkwargs\u001b[0m\u001b[0;34m[\u001b[0m\u001b[0;34m'local_ns'\u001b[0m\u001b[0;34m]\u001b[0m \u001b[0;34m=\u001b[0m \u001b[0msys\u001b[0m\u001b[0;34m.\u001b[0m\u001b[0m_getframe\u001b[0m\u001b[0;34m(\u001b[0m\u001b[0mstack_depth\u001b[0m\u001b[0;34m)\u001b[0m\u001b[0;34m.\u001b[0m\u001b[0mf_locals\u001b[0m\u001b[0;34m\u001b[0m\u001b[0m\n\u001b[1;32m   2256\u001b[0m             \u001b[0;32mwith\u001b[0m \u001b[0mself\u001b[0m\u001b[0;34m.\u001b[0m\u001b[0mbuiltin_trap\u001b[0m\u001b[0;34m:\u001b[0m\u001b[0;34m\u001b[0m\u001b[0m\n\u001b[0;32m-> 2257\u001b[0;31m                 \u001b[0mresult\u001b[0m \u001b[0;34m=\u001b[0m \u001b[0mfn\u001b[0m\u001b[0;34m(\u001b[0m\u001b[0;34m*\u001b[0m\u001b[0margs\u001b[0m\u001b[0;34m,\u001b[0m\u001b[0;34m**\u001b[0m\u001b[0mkwargs\u001b[0m\u001b[0;34m)\u001b[0m\u001b[0;34m\u001b[0m\u001b[0m\n\u001b[0m\u001b[1;32m   2258\u001b[0m             \u001b[0;32mreturn\u001b[0m \u001b[0mresult\u001b[0m\u001b[0;34m\u001b[0m\u001b[0m\n\u001b[1;32m   2259\u001b[0m \u001b[0;34m\u001b[0m\u001b[0m\n",
      "\u001b[0;32m<decorator-gen-64>\u001b[0m in \u001b[0;36mload_ext\u001b[0;34m(self, module_str)\u001b[0m\n",
      "\u001b[0;32m/Users/bryketos/anaconda/lib/python2.7/site-packages/IPython/core/magic.pyc\u001b[0m in \u001b[0;36m<lambda>\u001b[0;34m(f, *a, **k)\u001b[0m\n\u001b[1;32m    191\u001b[0m     \u001b[0;31m# but it's overkill for just that one bit of state.\u001b[0m\u001b[0;34m\u001b[0m\u001b[0;34m\u001b[0m\u001b[0m\n\u001b[1;32m    192\u001b[0m     \u001b[0;32mdef\u001b[0m \u001b[0mmagic_deco\u001b[0m\u001b[0;34m(\u001b[0m\u001b[0marg\u001b[0m\u001b[0;34m)\u001b[0m\u001b[0;34m:\u001b[0m\u001b[0;34m\u001b[0m\u001b[0m\n\u001b[0;32m--> 193\u001b[0;31m         \u001b[0mcall\u001b[0m \u001b[0;34m=\u001b[0m \u001b[0;32mlambda\u001b[0m \u001b[0mf\u001b[0m\u001b[0;34m,\u001b[0m \u001b[0;34m*\u001b[0m\u001b[0ma\u001b[0m\u001b[0;34m,\u001b[0m \u001b[0;34m**\u001b[0m\u001b[0mk\u001b[0m\u001b[0;34m:\u001b[0m \u001b[0mf\u001b[0m\u001b[0;34m(\u001b[0m\u001b[0;34m*\u001b[0m\u001b[0ma\u001b[0m\u001b[0;34m,\u001b[0m \u001b[0;34m**\u001b[0m\u001b[0mk\u001b[0m\u001b[0;34m)\u001b[0m\u001b[0;34m\u001b[0m\u001b[0m\n\u001b[0m\u001b[1;32m    194\u001b[0m \u001b[0;34m\u001b[0m\u001b[0m\n\u001b[1;32m    195\u001b[0m         \u001b[0;32mif\u001b[0m \u001b[0mcallable\u001b[0m\u001b[0;34m(\u001b[0m\u001b[0marg\u001b[0m\u001b[0;34m)\u001b[0m\u001b[0;34m:\u001b[0m\u001b[0;34m\u001b[0m\u001b[0m\n",
      "\u001b[0;32m/Users/bryketos/anaconda/lib/python2.7/site-packages/IPython/core/magics/extension.pyc\u001b[0m in \u001b[0;36mload_ext\u001b[0;34m(self, module_str)\u001b[0m\n\u001b[1;32m     64\u001b[0m         \u001b[0;32mif\u001b[0m \u001b[0;32mnot\u001b[0m \u001b[0mmodule_str\u001b[0m\u001b[0;34m:\u001b[0m\u001b[0;34m\u001b[0m\u001b[0m\n\u001b[1;32m     65\u001b[0m             \u001b[0;32mraise\u001b[0m \u001b[0mUsageError\u001b[0m\u001b[0;34m(\u001b[0m\u001b[0;34m'Missing module name.'\u001b[0m\u001b[0;34m)\u001b[0m\u001b[0;34m\u001b[0m\u001b[0m\n\u001b[0;32m---> 66\u001b[0;31m         \u001b[0mres\u001b[0m \u001b[0;34m=\u001b[0m \u001b[0mself\u001b[0m\u001b[0;34m.\u001b[0m\u001b[0mshell\u001b[0m\u001b[0;34m.\u001b[0m\u001b[0mextension_manager\u001b[0m\u001b[0;34m.\u001b[0m\u001b[0mload_extension\u001b[0m\u001b[0;34m(\u001b[0m\u001b[0mmodule_str\u001b[0m\u001b[0;34m)\u001b[0m\u001b[0;34m\u001b[0m\u001b[0m\n\u001b[0m\u001b[1;32m     67\u001b[0m \u001b[0;34m\u001b[0m\u001b[0m\n\u001b[1;32m     68\u001b[0m         \u001b[0;32mif\u001b[0m \u001b[0mres\u001b[0m \u001b[0;34m==\u001b[0m \u001b[0;34m'already loaded'\u001b[0m\u001b[0;34m:\u001b[0m\u001b[0;34m\u001b[0m\u001b[0m\n",
      "\u001b[0;32m/Users/bryketos/anaconda/lib/python2.7/site-packages/IPython/core/extensions.pyc\u001b[0m in \u001b[0;36mload_extension\u001b[0;34m(self, module_str)\u001b[0m\n\u001b[1;32m     82\u001b[0m             \u001b[0;32mif\u001b[0m \u001b[0mmodule_str\u001b[0m \u001b[0;32mnot\u001b[0m \u001b[0;32min\u001b[0m \u001b[0msys\u001b[0m\u001b[0;34m.\u001b[0m\u001b[0mmodules\u001b[0m\u001b[0;34m:\u001b[0m\u001b[0;34m\u001b[0m\u001b[0m\n\u001b[1;32m     83\u001b[0m                 \u001b[0;32mwith\u001b[0m \u001b[0mprepended_to_syspath\u001b[0m\u001b[0;34m(\u001b[0m\u001b[0mself\u001b[0m\u001b[0;34m.\u001b[0m\u001b[0mipython_extension_dir\u001b[0m\u001b[0;34m)\u001b[0m\u001b[0;34m:\u001b[0m\u001b[0;34m\u001b[0m\u001b[0m\n\u001b[0;32m---> 84\u001b[0;31m                     \u001b[0m__import__\u001b[0m\u001b[0;34m(\u001b[0m\u001b[0mmodule_str\u001b[0m\u001b[0;34m)\u001b[0m\u001b[0;34m\u001b[0m\u001b[0m\n\u001b[0m\u001b[1;32m     85\u001b[0m             \u001b[0mmod\u001b[0m \u001b[0;34m=\u001b[0m \u001b[0msys\u001b[0m\u001b[0;34m.\u001b[0m\u001b[0mmodules\u001b[0m\u001b[0;34m[\u001b[0m\u001b[0mmodule_str\u001b[0m\u001b[0;34m]\u001b[0m\u001b[0;34m\u001b[0m\u001b[0m\n\u001b[1;32m     86\u001b[0m             \u001b[0;32mif\u001b[0m \u001b[0mself\u001b[0m\u001b[0;34m.\u001b[0m\u001b[0m_call_load_ipython_extension\u001b[0m\u001b[0;34m(\u001b[0m\u001b[0mmod\u001b[0m\u001b[0;34m)\u001b[0m\u001b[0;34m:\u001b[0m\u001b[0;34m\u001b[0m\u001b[0m\n",
      "\u001b[0;31mImportError\u001b[0m: No module named rpy2.ipython"
     ]
    }
   ],
   "source": [
    "'''Prepare the notebook. Run this cell first.'''\n",
    "import os, re, sys\n",
    "import pandas as pd\n",
    "import numpy as np\n",
    "%load_ext rpy2.ipython"
   ]
  },
  {
   "cell_type": "code",
   "execution_count": 4,
   "metadata": {
    "collapsed": true
   },
   "outputs": [],
   "source": [
    "'''Set parameters.  Run this cell before all others.'''\n",
    "min_maf = 0.01 #Remove variants below this frequency. Set to 0 to keep all variants.\n",
    "max_missing_sample_callrate = 0.03 #Remove samples that have greater than this percent of missing genotypes (\"sample callrate\").\n",
    "max_missing_marker_callrate = 0.03 #Remove SNPs that have greater than this percent of missing calls (\"marker callrate\").\n",
    "max_IBD = 0.125 #Remove samples that have identity by state greater than this coefficient of relationship (first cousins).\n",
    "min_HWE_p = 0.00001 #Remove SNPs with HWE exact test p-values lower than this.\n",
    "min_diffmiss_p = 0.00001 #Remove SNPs with differential missingness test p-values lower than this."
   ]
  },
  {
   "cell_type": "code",
   "execution_count": null,
   "metadata": {
    "collapsed": true
   },
   "outputs": [],
   "source": []
  },
  {
   "cell_type": "code",
   "execution_count": 17,
   "metadata": {
    "collapsed": false
   },
   "outputs": [
    {
     "name": "stdout",
     "output_type": "stream",
     "text": [
      "/home/brian/clink/NEIGHBOR\n"
     ]
    }
   ],
   "source": [
    "'''Make analysis directory and upload your data'''\n",
    "\n",
    "import os\n",
    "study_dir = '/home/brian/clink/NEIGHBOR/' #Can change this variable to suit your study.\n",
    "if not os.path.isdir(study_dir): os.mkdir(study_dir)\n",
    "%cd {study_dir}\n",
    "\n",
    "#You can either upload data to the EC2 instance using the key pair you specified at instance launch,\n",
    "#  for instance using scp from a system that has your data,\n",
    "#  or you can fetch the data from this instance using SFTP/rsync/curl/wget/s3\n",
    "\n",
    "#Remember that if you want to pull data from a private S3 bucket, the EC2 instance needs to assume an IAM role,\n",
    "#  and that bucket must be configured for the EC2 instance's IAM role.\n",
    "\n",
    "#In this example, I used scp from a firewalled and secured workstation to securely upload a Plink study to the EC2 instance.\n",
    "#I used a command like this from my workstation:\n",
    "#scp -i my_key_pair.pem my_study.* ec2-user@<IPv4_public_IP>:/gwas/my_study/\n",
    "#  ..where <IPv4_public_IP> is the public IPv4 address of the EC2 instance running this notebook.\n",
    "\n",
    "input_filestem  = 'merged_neighbor' #Set this variable to the Plink filestem of your study.\n",
    "output_filestem = 'clean-' + input_filestem #Generate a new filestem for post-QC data."
   ]
  },
  {
   "cell_type": "code",
   "execution_count": 18,
   "metadata": {
    "collapsed": false
   },
   "outputs": [
    {
     "name": "stdout",
     "output_type": "stream",
     "text": [
      "PLINK v1.90b4.1 64-bit (30 Mar 2017)           www.cog-genomics.org/plink/1.9/\n",
      "(C) 2005-2017 Shaun Purcell, Christopher Chang   GNU General Public License v3\n",
      "Logging to merged_neighbor.log.\n",
      "Options in effect:\n",
      "  --bfile merged_neighbor\n",
      "  --check-sex\n",
      "  --out merged_neighbor\n",
      "\n",
      "64329 MB RAM detected; reserving 32164 MB for main workspace.\n",
      "528478 variants loaded from .bim file.\n",
      "5183 people (2299 males, 2752 females, 132 ambiguous) loaded from .fam.\n",
      "Ambiguous sex IDs written to merged_neighbor.nosex .\n",
      "5051 phenotype values loaded from .fam.\n",
      "Using 1 thread (no multithreaded calculations invoked).\n",
      "Before main variant filters, 5183 founders and 0 nonfounders present.\n",
      "Calculating allele frequencies... 0%\b\b1%\b\b2%\b\b3%\b\b4%\b\b5%\b\b6%\b\b7%\b\b8%\b\b9%\b\b10%\b\b\b11%\b\b\b12%\b\b\b13%\b\b\b14%\b\b\b15%\b\b\b16%\b\b\b17%\b\b\b18%\b\b\b19%\b\b\b20%\b\b\b21%\b\b\b22%\b\b\b23%\b\b\b24%\b\b\b25%\b\b\b26%\b\b\b27%\b\b\b28%\b\b\b29%\b\b\b30%\b\b\b31%\b\b\b32%\b\b\b33%\b\b\b34%\b\b\b35%\b\b\b36%\b\b\b37%\b\b\b38%\b\b\b39%\b\b\b40%\b\b\b41%\b\b\b42%\b\b\b43%\b\b\b44%\b\b\b45%\b\b\b46%\b\b\b47%\b\b\b48%\b\b\b49%\b\b\b50%\b\b\b51%\b\b\b52%\b\b\b53%\b\b\b54%\b\b\b55%\b\b\b56%\b\b\b57%\b\b\b58%\b\b\b59%\b\b\b60%\b\b\b61%\b\b\b62%\b\b\b63%\b\b\b64%\b\b\b65%\b\b\b66%\b\b\b67%\b\b\b68%\b\b\b69%\b\b\b70%\b\b\b71%\b\b\b72%\b\b\b73%\b\b\b74%\b\b\b75%\b\b\b76%\b\b\b77%\b\b\b78%\b\b\b79%\b\b\b80%\b\b\b81%\b\b\b82%\b\b\b83%\b\b\b84%\b\b\b85%\b\b\b86%\b\b\b87%\b\b\b88%\b\b\b89%\b\b\b90%\b\b\b91%\b\b\b92%\b\b\b93%\b\b\b94%\b\b\b95%\b\b\b96%\b\b\b97%\b\b\b98%\b\b\b99%\b\b\b\b done.\n",
      "Warning: 11557 het. haploid genotypes present (see merged_neighbor.hh ); many\n",
      "commands treat these as missing.\n",
      "Warning: Nonmissing nonmale Y chromosome genotype(s) present; many commands\n",
      "treat these as missing.\n",
      "Total genotyping rate is 0.999482.\n",
      "528478 variants and 5183 people pass filters and QC.\n",
      "Phenotype data is quantitative.\n",
      "--check-sex: 12379 Xchr and 0 Ychr variant(s) scanned, 151 problems detected.\n",
      "Report written to merged_neighbor.sexcheck .\n"
     ]
    }
   ],
   "source": [
    "'''1) Run sex check using plink.'''\n",
    "\n",
    "#This should generate a *.sexcheck file for the study:\n",
    "!plink --bfile $input_filestem --check-sex --out $input_filestem"
   ]
  },
  {
   "cell_type": "code",
   "execution_count": 20,
   "metadata": {
    "collapsed": false
   },
   "outputs": [
    {
     "name": "stdout",
     "output_type": "stream",
     "text": [
      "Number of gender discordances detected: ['151']\n",
      "         FID          IID       PEDSEX       SNPSEX       STATUS            F\n",
      "      ME8001       ME8001            0            2      PROBLEM     -0.03751\n",
      "      ME8002       ME8002            0            1      PROBLEM            1\n",
      "      ME8003       ME8003            0            1      PROBLEM            1\n",
      "      ME8004       ME8004            0            2      PROBLEM    -0.005969\n",
      "      ME8005       ME8005            0            2      PROBLEM     -0.04629\n"
     ]
    }
   ],
   "source": [
    "sexcheck_file = input_filestem + '.sexcheck'\n",
    "sexprobs_file = input_filestem + '.sexprobs'\n",
    "\n",
    "!fgrep PROBLEM $sexcheck_file > $sexprobs_file\n",
    "sexproblems = !cat $sexprobs_file | wc -l\n",
    "print(\"Number of gender discordances detected: \" + str(sexproblems))\n",
    "\n",
    "#Save the FID and IID of the individuals that failed qc, if any.\n",
    "#It's okay to generate an empty file here - we'll count the lines of each fail-* file later for a sumamry.\n",
    "!perl -lne 's/^\\s+//; @f = split; print join \"\\t\", (@f[0..1])' $sexprobs_file >fail-sexcheck-qc.txt\n",
    "\n",
    "#At this point, inspect the reasons for any gender discordances.  In this case, some genders are missing in the ped file:\n",
    "!head -1 $sexcheck_file #For the header.\n",
    "!head -5 $sexprobs_file #Check out the first 5 discordances."
   ]
  },
  {
   "cell_type": "code",
   "execution_count": 7,
   "metadata": {
    "collapsed": false
   },
   "outputs": [
    {
     "name": "stdout",
     "output_type": "stream",
     "text": [
      "PLINK v1.90b4.1 64-bit (30 Mar 2017)           www.cog-genomics.org/plink/1.9/\n",
      "(C) 2005-2017 Shaun Purcell, Christopher Chang   GNU General Public License v3\n",
      "Logging to merged_neighbor.log.\n",
      "Options in effect:\n",
      "  --bfile merged_neighbor\n",
      "  --geno 0.01\n",
      "  --make-bed\n",
      "  --out merged_neighbor\n",
      "\n",
      "64329 MB RAM detected; reserving 32164 MB for main workspace.\n",
      "Note: --make-bed input and output filenames match.  Appending '~' to input\n",
      "filenames.\n",
      "655216 variants loaded from .bim file.\n",
      "5183 people (2299 males, 2752 females, 132 ambiguous) loaded from .fam.\n",
      "Ambiguous sex IDs written to merged_neighbor.nosex .\n",
      "5051 phenotype values loaded from .fam.\n",
      "Using 1 thread (no multithreaded calculations invoked).\n",
      "Before main variant filters, 5183 founders and 0 nonfounders present.\n",
      "Calculating allele frequencies... 0%\b\b1%\b\b2%\b\b3%\b\b4%\b\b5%\b\b6%\b\b7%\b\b8%\b\b9%\b\b10%\b\b\b11%\b\b\b12%\b\b\b13%\b\b\b14%\b\b\b15%\b\b\b16%\b\b\b17%\b\b\b18%\b\b\b19%\b\b\b20%\b\b\b21%\b\b\b22%\b\b\b23%\b\b\b24%\b\b\b25%\b\b\b26%\b\b\b27%\b\b\b28%\b\b\b29%\b\b\b30%\b\b\b31%\b\b\b32%\b\b\b33%\b\b\b34%\b\b\b35%\b\b\b36%\b\b\b37%\b\b\b38%\b\b\b39%\b\b\b40%\b\b\b41%\b\b\b42%\b\b\b43%\b\b\b44%\b\b\b45%\b\b\b46%\b\b\b47%\b\b\b48%\b\b\b49%\b\b\b50%\b\b\b51%\b\b\b52%\b\b\b53%\b\b\b54%\b\b\b55%\b\b\b56%\b\b\b57%\b\b\b58%\b\b\b59%\b\b\b60%\b\b\b61%\b\b\b62%\b\b\b63%\b\b\b64%\b\b\b65%\b\b\b66%\b\b\b67%\b\b\b68%\b\b\b69%\b\b\b70%\b\b\b71%\b\b\b72%\b\b\b73%\b\b\b74%\b\b\b75%\b\b\b76%\b\b\b77%\b\b\b78%\b\b\b79%\b\b\b80%\b\b\b81%\b\b\b82%\b\b\b83%\b\b\b84%\b\b\b85%\b\b\b86%\b\b\b87%\b\b\b88%\b\b\b89%\b\b\b90%\b\b\b91%\b\b\b92%\b\b\b93%\b\b\b94%\b\b\b95%\b\b\b96%\b\b\b97%\b\b\b98%\b\b\b99%\b\b\b\b done.\n",
      "Warning: 11950 het. haploid genotypes present (see merged_neighbor.hh ); many\n",
      "commands treat these as missing.\n",
      "Warning: Nonmissing nonmale Y chromosome genotype(s) present; many commands\n",
      "treat these as missing.\n",
      "Total genotyping rate is 0.849377.\n",
      "107404 variants removed due to missing genotype data (--geno).\n",
      "547812 variants and 5183 people pass filters and QC.\n",
      "Phenotype data is quantitative.\n",
      "--make-bed to merged_neighbor.bed + merged_neighbor.bim + merged_neighbor.fam\n",
      "... 0%\b\b1%\b\b2%\b\b3%\b\b4%\b\b5%\b\b6%\b\b7%\b\b8%\b\b9%\b\b10%\b\b\b11%\b\b\b12%\b\b\b13%\b\b\b14%\b\b\b15%\b\b\b16%\b\b\b17%\b\b\b18%\b\b\b19%\b\b\b20%\b\b\b21%\b\b\b22%\b\b\b23%\b\b\b24%\b\b\b25%\b\b\b26%\b\b\b27%\b\b\b28%\b\b\b29%\b\b\b30%\b\b\b31%\b\b\b32%\b\b\b33%\b\b\b34%\b\b\b35%\b\b\b36%\b\b\b37%\b\b\b38%\b\b\b39%\b\b\b40%\b\b\b41%\b\b\b42%\b\b\b43%\b\b\b44%\b\b\b45%\b\b\b46%\b\b\b47%\b\b\b48%\b\b\b49%\b\b\b50%\b\b\b51%\b\b\b52%\b\b\b53%\b\b\b54%\b\b\b55%\b\b\b56%\b\b\b57%\b\b\b58%\b\b\b59%\b\b\b60%\b\b\b61%\b\b\b62%\b\b\b63%\b\b\b64%\b\b\b65%\b\b\b66%\b\b\b67%\b\b\b68%\b\b\b69%\b\b\b70%\b\b\b71%\b\b\b72%\b\b\b73%\b\b\b74%\b\b\b75%\b\b\b76%\b\b\b77%\b\b\b78%\b\b\b79%\b\b\b80%\b\b\b81%\b\b\b82%\b\b\b83%\b\b\b84%\b\b\b85%\b\b\b86%\b\b\b87%\b\b\b88%\b\b\b89%\b\b\b90%\b\b\b91%\b\b\b92%\b\b\b93%\b\b\b94%\b\b\b95%\b\b\b96%\b\b\b97%\b\b\b98%\b\b\b99%\b\b\bdone.\n"
     ]
    }
   ],
   "source": [
    "'''2) Marker callrate.'''\n",
    "!plink --bfile $input_filestem --geno $max_missing_marker_callrate --make-bed --out $input_filestem"
   ]
  },
  {
   "cell_type": "code",
   "execution_count": 9,
   "metadata": {
    "collapsed": false,
    "scrolled": true
   },
   "outputs": [
    {
     "name": "stdout",
     "output_type": "stream",
     "text": [
      "PLINK v1.90b4.1 64-bit (30 Mar 2017)           www.cog-genomics.org/plink/1.9/\n",
      "(C) 2005-2017 Shaun Purcell, Christopher Chang   GNU General Public License v3\n",
      "Logging to merged_neighbor.log.\n",
      "Options in effect:\n",
      "  --bfile merged_neighbor\n",
      "  --het\n",
      "  --missing\n",
      "  --out merged_neighbor\n",
      "\n",
      "64329 MB RAM detected; reserving 32164 MB for main workspace.\n",
      "547812 variants loaded from .bim file.\n",
      "5183 people (2299 males, 2752 females, 132 ambiguous) loaded from .fam.\n",
      "Ambiguous sex IDs written to merged_neighbor.nosex .\n",
      "5051 phenotype values loaded from .fam.\n",
      "Using 1 thread (no multithreaded calculations invoked).\n",
      "Before main variant filters, 5183 founders and 0 nonfounders present.\n",
      "Calculating allele frequencies... 0%\b\b1%\b\b2%\b\b3%\b\b4%\b\b5%\b\b6%\b\b7%\b\b8%\b\b9%\b\b10%\b\b\b11%\b\b\b12%\b\b\b13%\b\b\b14%\b\b\b15%\b\b\b16%\b\b\b17%\b\b\b18%\b\b\b19%\b\b\b20%\b\b\b21%\b\b\b22%\b\b\b23%\b\b\b24%\b\b\b25%\b\b\b26%\b\b\b27%\b\b\b28%\b\b\b29%\b\b\b30%\b\b\b31%\b\b\b32%\b\b\b33%\b\b\b34%\b\b\b35%\b\b\b36%\b\b\b37%\b\b\b38%\b\b\b39%\b\b\b40%\b\b\b41%\b\b\b42%\b\b\b43%\b\b\b44%\b\b\b45%\b\b\b46%\b\b\b47%\b\b\b48%\b\b\b49%\b\b\b50%\b\b\b51%\b\b\b52%\b\b\b53%\b\b\b54%\b\b\b55%\b\b\b56%\b\b\b57%\b\b\b58%\b\b\b59%\b\b\b60%\b\b\b61%\b\b\b62%\b\b\b63%\b\b\b64%\b\b\b65%\b\b\b66%\b\b\b67%\b\b\b68%\b\b\b69%\b\b\b70%\b\b\b71%\b\b\b72%\b\b\b73%\b\b\b74%\b\b\b75%\b\b\b76%\b\b\b77%\b\b\b78%\b\b\b79%\b\b\b80%\b\b\b81%\b\b\b82%\b\b\b83%\b\b\b84%\b\b\b85%\b\b\b86%\b\b\b87%\b\b\b88%\b\b\b89%\b\b\b90%\b\b\b91%\b\b\b92%\b\b\b93%\b\b\b94%\b\b\b95%\b\b\b96%\b\b\b97%\b\b\b98%\b\b\b99%\b\b\b\b done.\n",
      "Warning: 11574 het. haploid genotypes present (see merged_neighbor.hh ); many\n",
      "commands treat these as missing.\n",
      "Warning: Nonmissing nonmale Y chromosome genotype(s) present; many commands\n",
      "treat these as missing.\n",
      "Total genotyping rate is 0.999488.\n",
      "--missing: Sample missing data report written to merged_neighbor.imiss, and\n",
      "variant-based missing data report written to merged_neighbor.lmiss.\n",
      "547812 variants and 5183 people pass filters and QC.\n",
      "Phenotype data is quantitative.\n",
      "--het: 534198 variants scanned, report written to merged_neighbor.het .\n"
     ]
    }
   ],
   "source": [
    "'''3) Sample callrate.'''\n",
    "!plink --bfile $input_filestem --mind $max_missing_sample_callrate --out $input_filestem"
   ]
  },
  {
   "cell_type": "code",
   "execution_count": 10,
   "metadata": {
    "collapsed": false
   },
   "outputs": [
    {
     "data": {
      "text/html": [
       "<div>\n",
       "<table border=\"1\" class=\"dataframe\">\n",
       "  <thead>\n",
       "    <tr style=\"text-align: right;\">\n",
       "      <th></th>\n",
       "      <th>N_MISS</th>\n",
       "      <th>N_GENO</th>\n",
       "      <th>F_MISS</th>\n",
       "      <th>logF_MISS</th>\n",
       "    </tr>\n",
       "  </thead>\n",
       "  <tbody>\n",
       "    <tr>\n",
       "      <th>count</th>\n",
       "      <td>5183.000000</td>\n",
       "      <td>5183.000000</td>\n",
       "      <td>5183.000000</td>\n",
       "      <td>5183.000000</td>\n",
       "    </tr>\n",
       "    <tr>\n",
       "      <th>mean</th>\n",
       "      <td>280.452827</td>\n",
       "      <td>547807.548524</td>\n",
       "      <td>0.000512</td>\n",
       "      <td>-3.781140</td>\n",
       "    </tr>\n",
       "    <tr>\n",
       "      <th>std</th>\n",
       "      <td>713.359390</td>\n",
       "      <td>3.974823</td>\n",
       "      <td>0.001302</td>\n",
       "      <td>0.574419</td>\n",
       "    </tr>\n",
       "    <tr>\n",
       "      <th>min</th>\n",
       "      <td>10.000000</td>\n",
       "      <td>547804.000000</td>\n",
       "      <td>0.000018</td>\n",
       "      <td>-4.738737</td>\n",
       "    </tr>\n",
       "    <tr>\n",
       "      <th>25%</th>\n",
       "      <td>31.000000</td>\n",
       "      <td>547804.000000</td>\n",
       "      <td>0.000057</td>\n",
       "      <td>-4.247260</td>\n",
       "    </tr>\n",
       "    <tr>\n",
       "      <th>50%</th>\n",
       "      <td>58.000000</td>\n",
       "      <td>547804.000000</td>\n",
       "      <td>0.000106</td>\n",
       "      <td>-3.975104</td>\n",
       "    </tr>\n",
       "    <tr>\n",
       "      <th>75%</th>\n",
       "      <td>220.000000</td>\n",
       "      <td>547812.000000</td>\n",
       "      <td>0.000402</td>\n",
       "      <td>-3.396206</td>\n",
       "    </tr>\n",
       "    <tr>\n",
       "      <th>max</th>\n",
       "      <td>14615.000000</td>\n",
       "      <td>547812.000000</td>\n",
       "      <td>0.026680</td>\n",
       "      <td>-1.573814</td>\n",
       "    </tr>\n",
       "  </tbody>\n",
       "</table>\n",
       "</div>"
      ],
      "text/plain": [
       "             N_MISS         N_GENO       F_MISS    logF_MISS\n",
       "count   5183.000000    5183.000000  5183.000000  5183.000000\n",
       "mean     280.452827  547807.548524     0.000512    -3.781140\n",
       "std      713.359390       3.974823     0.001302     0.574419\n",
       "min       10.000000  547804.000000     0.000018    -4.738737\n",
       "25%       31.000000  547804.000000     0.000057    -4.247260\n",
       "50%       58.000000  547804.000000     0.000106    -3.975104\n",
       "75%      220.000000  547812.000000     0.000402    -3.396206\n",
       "max    14615.000000  547812.000000     0.026680    -1.573814"
      ]
     },
     "execution_count": 10,
     "metadata": {},
     "output_type": "execute_result"
    }
   ],
   "source": [
    "'''Visualize missingness and heterozygosity from reports.'''\n",
    "\n",
    "imiss_file = input_filestem + '.imiss'\n",
    "het_file   = input_filestem + '.het'\n",
    "\n",
    "\n",
    "#!head {imiss_file} #See how Plink generates some extra whitespace...\n",
    "!perl -i.bak -lpe 's/^\\s+//; s/\\s+/\\t/g;' {imiss_file} {het_file} \n",
    "#!head {imiss_file} #Uncomment to see how this Perl one-liner cleaned up these two files for easy reading.\n",
    "#Now the whitespace is cleaned up, and the original het and imiss files are backed up as *.het.bak and *.imiss.bak\n",
    "\n",
    "imiss = pd.read_table(imiss_file, sep=\"\\t\")\n",
    "het   = pd.read_table(het_file,   sep=\"\\t\")\n",
    "\n",
    "het['meanHet'] = (het['N(NM)'] - het['O(HOM)']) / het['N(NM)'] #Compute mean heterozygosity.\n",
    "imiss['logF_MISS'] = np.log10(imiss['F_MISS']) #This might generate a RuntimeWarning: \"divide by zero encountered in log10\" for genotypes that weren't missing in anybody.\n",
    "\n",
    "#imiss.head()\n",
    "\n",
    "imiss.describe()"
   ]
  },
  {
   "cell_type": "code",
   "execution_count": 11,
   "metadata": {
    "collapsed": false
   },
   "outputs": [
    {
     "name": "stdout",
     "output_type": "stream",
     "text": [
      "Summary of log10(missingness): [-4.739 -4.247 -3.975 -3.781 -3.396 -1.574]\n",
      "Summary of mean heterozygosity: [ 0.2344  0.3188  0.3202  0.3203  0.3218  0.3605]\n"
     ]
    },
    {
     "data": {
      "image/png": "[encoded data removed]"
     },
     "metadata": {},
     "output_type": "display_data"
    }
   ],
   "source": [
    "'''Plot missingness versus heterozygosity. Use Rmagic.'''\n",
    "\n",
    "%Rpush imiss_file het_file\n",
    "%R imiss <- read.table(imiss_file, header=T)\n",
    "%R het   <- read.table(het_file,   header=T)\n",
    "\n",
    "#Calculate the log10 of the F_MISS and the mean heterozygosity (among non-missing genotypes).\n",
    "%R imiss$logF_MISS <- log10(imiss$F_MISS)\n",
    "%R het$meanHet     <-  (het$N.NM. - het$O.HOM.)/het$N.NM.\n",
    "\n",
    "%R -o summary_logF_MISS summary_logF_MISS <- summary(imiss$logF_MISS)\n",
    "print(\"Summary of log10(missingness): \" + str(summary_logF_MISS))\n",
    "\n",
    "%R -o summary_meanHet summary_meanHet <- summary(het$meanHet)\n",
    "print(\"Summary of mean heterozygosity: \" + str(summary_meanHet))\n",
    "\n",
    "#Plot the logF_MISS against the mean heterozygosity.\n",
    "#You can modify this plotting command to focus on your range of interest.\n",
    "%R plot(imiss$logF_MISS, het$meanHet, xlim=c(-3,0), ylim=c(0,0.5), pch=1, xlab=\"Proportion of missing genotypes\", ylab=\"Heterozygosity rate\",axes=F); axis(2,at=c(0,0.05,0.10,0.15,0.2,0.25,0.3,0.35,0.4,0.45,0.5),tick=T); axis(1,at=c(-3,-2,-1,0),labels=c(0.001,0.01,0.1,1)); abline(h=mean(het$meanHet) - (2 * sd(het$meanHet)), col=\"RED\",  lty=2); abline(h=mean(het$meanHet) - (3 * sd(het$meanHet)), col=\"gray\", lty=2); abline(h=mean(het$meanHet) + (2 * sd(het$meanHet)), col=\"red\",  lty=2); abline(h=mean(het$meanHet) + (3 * sd(het$meanHet)), col=\"gray\",  lty=2); abline(v=-1.522879, col=\"red\", lty=2)\n"
   ]
  },
  {
   "cell_type": "code",
   "execution_count": 12,
   "metadata": {
    "collapsed": true
   },
   "outputs": [],
   "source": [
    "'''Write file containing FID:IID pairs for individuals with outlying heterozygosity'''\n",
    "%R het.filt <- het[which( het$meanHet > (mean(het$meanHet) + 3 * sd(het$meanHet)) | het$meanHet < (mean(het$meanHet) - 3 * sd(het$meanHet)) ),]\n",
    "%R write.table(het.filt[,c(0,1)], file=\"fail-het-qc.txt\", sep=\"\\t\", row.names=F, quote=F)"
   ]
  },
  {
   "cell_type": "code",
   "execution_count": 13,
   "metadata": {
    "collapsed": false
   },
   "outputs": [
    {
     "name": "stdout",
     "output_type": "stream",
     "text": [
      "Number of individuals who failed heterozygosity QC:['103']\n"
     ]
    }
   ],
   "source": [
    "fail_het_qc_count = !cat fail-het-qc.txt | wc -l\n",
    "\n",
    "print(\"Number of individuals who failed heterozygosity QC:\" + str(fail_het_qc_count))"
   ]
  },
  {
   "cell_type": "code",
   "execution_count": 14,
   "metadata": {
    "collapsed": false
   },
   "outputs": [
    {
     "name": "stdout",
     "output_type": "stream",
     "text": [
      "PLINK v1.90b4.1 64-bit (30 Mar 2017)           www.cog-genomics.org/plink/1.9/\n",
      "(C) 2005-2017 Shaun Purcell, Christopher Chang   GNU General Public License v3\n",
      "Logging to merged_neighbor.log.\n",
      "Options in effect:\n",
      "  --bfile merged_neighbor\n",
      "  --maf 0.01\n",
      "  --make-bed\n",
      "  --out merged_neighbor\n",
      "\n",
      "64329 MB RAM detected; reserving 32164 MB for main workspace.\n",
      "Note: --make-bed input and output filenames match.  Appending '~' to input\n",
      "filenames.\n",
      "547812 variants loaded from .bim file.\n",
      "5183 people (2299 males, 2752 females, 132 ambiguous) loaded from .fam.\n",
      "Ambiguous sex IDs written to merged_neighbor.nosex .\n",
      "5051 phenotype values loaded from .fam.\n",
      "Using 1 thread (no multithreaded calculations invoked).\n",
      "Before main variant filters, 5183 founders and 0 nonfounders present.\n",
      "Calculating allele frequencies... 0%\b\b1%\b\b2%\b\b3%\b\b4%\b\b5%\b\b6%\b\b7%\b\b8%\b\b9%\b\b10%\b\b\b11%\b\b\b12%\b\b\b13%\b\b\b14%\b\b\b15%\b\b\b16%\b\b\b17%\b\b\b18%\b\b\b19%\b\b\b20%\b\b\b21%\b\b\b22%\b\b\b23%\b\b\b24%\b\b\b25%\b\b\b26%\b\b\b27%\b\b\b28%\b\b\b29%\b\b\b30%\b\b\b31%\b\b\b32%\b\b\b33%\b\b\b34%\b\b\b35%\b\b\b36%\b\b\b37%\b\b\b38%\b\b\b39%\b\b\b40%\b\b\b41%\b\b\b42%\b\b\b43%\b\b\b44%\b\b\b45%\b\b\b46%\b\b\b47%\b\b\b48%\b\b\b49%\b\b\b50%\b\b\b51%\b\b\b52%\b\b\b53%\b\b\b54%\b\b\b55%\b\b\b56%\b\b\b57%\b\b\b58%\b\b\b59%\b\b\b60%\b\b\b61%\b\b\b62%\b\b\b63%\b\b\b64%\b\b\b65%\b\b\b66%\b\b\b67%\b\b\b68%\b\b\b69%\b\b\b70%\b\b\b71%\b\b\b72%\b\b\b73%\b\b\b74%\b\b\b75%\b\b\b76%\b\b\b77%\b\b\b78%\b\b\b79%\b\b\b80%\b\b\b81%\b\b\b82%\b\b\b83%\b\b\b84%\b\b\b85%\b\b\b86%\b\b\b87%\b\b\b88%\b\b\b89%\b\b\b90%\b\b\b91%\b\b\b92%\b\b\b93%\b\b\b94%\b\b\b95%\b\b\b96%\b\b\b97%\b\b\b98%\b\b\b99%\b\b\b\b done.\n",
      "Warning: 11574 het. haploid genotypes present (see merged_neighbor.hh ); many\n",
      "commands treat these as missing.\n",
      "Warning: Nonmissing nonmale Y chromosome genotype(s) present; many commands\n",
      "treat these as missing.\n",
      "Total genotyping rate is 0.999488.\n",
      "19334 variants removed due to minor allele threshold(s)\n",
      "(--maf/--max-maf/--mac/--max-mac).\n",
      "528478 variants and 5183 people pass filters and QC.\n",
      "Phenotype data is quantitative.\n",
      "--make-bed to merged_neighbor.bed + merged_neighbor.bim + merged_neighbor.fam\n",
      "... 0%\b\b1%\b\b2%\b\b3%\b\b4%\b\b5%\b\b6%\b\b7%\b\b8%\b\b9%\b\b10%\b\b\b11%\b\b\b12%\b\b\b13%\b\b\b14%\b\b\b15%\b\b\b16%\b\b\b17%\b\b\b18%\b\b\b19%\b\b\b20%\b\b\b21%\b\b\b22%\b\b\b23%\b\b\b24%\b\b\b25%\b\b\b26%\b\b\b27%\b\b\b28%\b\b\b29%\b\b\b30%\b\b\b31%\b\b\b32%\b\b\b33%\b\b\b34%\b\b\b35%\b\b\b36%\b\b\b37%\b\b\b38%\b\b\b39%\b\b\b40%\b\b\b41%\b\b\b42%\b\b\b43%\b\b\b44%\b\b\b45%\b\b\b46%\b\b\b47%\b\b\b48%\b\b\b49%\b\b\b50%\b\b\b51%\b\b\b52%\b\b\b53%\b\b\b54%\b\b\b55%\b\b\b56%\b\b\b57%\b\b\b58%\b\b\b59%\b\b\b60%\b\b\b61%\b\b\b62%\b\b\b63%\b\b\b64%\b\b\b65%\b\b\b66%\b\b\b67%\b\b\b68%\b\b\b69%\b\b\b70%\b\b\b71%\b\b\b72%\b\b\b73%\b\b\b74%\b\b\b75%\b\b\b76%\b\b\b77%\b\b\b78%\b\b\b79%\b\b\b80%\b\b\b81%\b\b\b82%\b\b\b83%\b\b\b84%\b\b\b85%\b\b\b86%\b\b\b87%\b\b\b88%\b\b\b89%\b\b\b90%\b\b\b91%\b\b\b92%\b\b\b93%\b\b\b94%\b\b\b95%\b\b\b96%\b\b\b97%\b\b\b98%\b\b\b99%\b\b\bdone.\n"
     ]
    }
   ],
   "source": [
    "'''4) MAF'''\n",
    "!plink --bfile $input_filestem --min_maf 0.01 --make-bed --out $input_filestem"
   ]
  },
  {
   "cell_type": "code",
   "execution_count": 16,
   "metadata": {
    "collapsed": false,
    "scrolled": true
   },
   "outputs": [
    {
     "name": "stdout",
     "output_type": "stream",
     "text": [
      "PLINK v1.90b4.1 64-bit (30 Mar 2017)           www.cog-genomics.org/plink/1.9/\n",
      "(C) 2005-2017 Shaun Purcell, Christopher Chang   GNU General Public License v3\n",
      "Logging to merged_neighbor.log.\n",
      "Options in effect:\n",
      "  --bfile merged_neighbor\n",
      "  --indep-pairwise 50 5 0.2\n",
      "  --out merged_neighbor\n",
      "\n",
      "64329 MB RAM detected; reserving 32164 MB for main workspace.\n",
      "528478 variants loaded from .bim file.\n",
      "5183 people (2299 males, 2752 females, 132 ambiguous) loaded from .fam.\n",
      "Ambiguous sex IDs written to merged_neighbor.nosex .\n",
      "5051 phenotype values loaded from .fam.\n",
      "Using 1 thread (no multithreaded calculations invoked).\n",
      "Before main variant filters, 5183 founders and 0 nonfounders present.\n",
      "Calculating allele frequencies... 0%\b\b1%\b\b2%\b\b3%\b\b4%\b\b5%\b\b6%\b\b7%\b\b8%\b\b9%\b\b10%\b\b\b11%\b\b\b12%\b\b\b13%\b\b\b14%\b\b\b15%\b\b\b16%\b\b\b17%\b\b\b18%\b\b\b19%\b\b\b20%\b\b\b21%\b\b\b22%\b\b\b23%\b\b\b24%\b\b\b25%\b\b\b26%\b\b\b27%\b\b\b28%\b\b\b29%\b\b\b30%\b\b\b31%\b\b\b32%\b\b\b33%\b\b\b34%\b\b\b35%\b\b\b36%\b\b\b37%\b\b\b38%\b\b\b39%\b\b\b40%\b\b\b41%\b\b\b42%\b\b\b43%\b\b\b44%\b\b\b45%\b\b\b46%\b\b\b47%\b\b\b48%\b\b\b49%\b\b\b50%\b\b\b51%\b\b\b52%\b\b\b53%\b\b\b54%\b\b\b55%\b\b\b56%\b\b\b57%\b\b\b58%\b\b\b59%\b\b\b60%\b\b\b61%\b\b\b62%\b\b\b63%\b\b\b64%\b\b\b65%\b\b\b66%\b\b\b67%\b\b\b68%\b\b\b69%\b\b\b70%\b\b\b71%\b\b\b72%\b\b\b73%\b\b\b74%\b\b\b75%\b\b\b76%\b\b\b77%\b\b\b78%\b\b\b79%\b\b\b80%\b\b\b81%\b\b\b82%\b\b\b83%\b\b\b84%\b\b\b85%\b\b\b86%\b\b\b87%\b\b\b88%\b\b\b89%\b\b\b90%\b\b\b91%\b\b\b92%\b\b\b93%\b\b\b94%\b\b\b95%\b\b\b96%\b\b\b97%\b\b\b98%\b\b\b99%\b\b\b\b done.\n",
      "Warning: 11557 het. haploid genotypes present (see merged_neighbor.hh ); many\n",
      "commands treat these as missing.\n",
      "Warning: Nonmissing nonmale Y chromosome genotype(s) present; many commands\n",
      "treat these as missing.\n",
      "Total genotyping rate is 0.999482.\n",
      "528478 variants and 5183 people pass filters and QC.\n",
      "Phenotype data is quantitative.\n",
      "Pruned 31470 variants from chromosome 1, leaving 8845.\n",
      "Pruned 34444 variants from chromosome 2, leaving 8441.\n",
      "Pruned 28408 variants from chromosome 3, leaving 7252.\n",
      "Pruned 24781 variants from chromosome 4, leaving 6599.\n",
      "Pruned 25658 variants from chromosome 5, leaving 6629.\n",
      "Pruned 27777 variants from chromosome 6, leaving 6780.\n",
      "Pruned 22702 variants from chromosome 7, leaving 5909.\n",
      "Pruned 23939 variants from chromosome 8, leaving 5526.\n",
      "Pruned 20166 variants from chromosome 9, leaving 5140.\n",
      "Pruned 21921 variants from chromosome 10, leaving 5752.\n",
      "Pruned 20404 variants from chromosome 11, leaving 5252.\n",
      "Pruned 20103 variants from chromosome 12, leaving 5568.\n",
      "Pruned 15704 variants from chromosome 13, leaving 4152.\n",
      "Pruned 13656 variants from chromosome 14, leaving 3748.\n",
      "Pruned 12158 variants from chromosome 15, leaving 3528.\n",
      "Pruned 12136 variants from chromosome 16, leaving 3827.\n",
      "Pruned 10171 variants from chromosome 17, leaving 3601.\n",
      "Pruned 12147 variants from chromosome 18, leaving 3602.\n",
      "Pruned 6322 variants from chromosome 19, leaving 2738.\n",
      "Pruned 10163 variants from chromosome 20, leaving 3238.\n",
      "Pruned 6006 variants from chromosome 21, leaving 1808.\n",
      "Pruned 5867 variants from chromosome 22, leaving 1978.\n",
      "Pruned 9556 variants from chromosome 23, leaving 2823.\n",
      "Pruned 2 variants from chromosome 24, leaving 2.\n",
      "Pruned 0 variants from chromosome 25, leaving 3.\n",
      "Pruned 43 variants from chromosome 26, leaving 33.\n",
      "Pruning complete.  415704 of 528478 variants removed.\n",
      "Marker lists written to merged_neighbor.prune.in and merged_neighbor.prune.out\n",
      ".\n"
     ]
    }
   ],
   "source": [
    "'''5) IBD'''\n",
    "'''Generate LD-pruned variants first.'''\n",
    "!plink --bfile $input_filestem --indep-pairwise 50 5 0.2 --out $input_filestem"
   ]
  },
  {
   "cell_type": "code",
   "execution_count": 2,
   "metadata": {
    "collapsed": false,
    "scrolled": true
   },
   "outputs": [
    {
     "ename": "NameError",
     "evalue": "name 'output_filestem' is not defined",
     "output_type": "error",
     "traceback": [
      "\u001b[0;31m---------------------------------------------------------------------------\u001b[0m",
      "\u001b[0;31mNameError\u001b[0m                                 Traceback (most recent call last)",
      "\u001b[0;32m<ipython-input-2-b042855a3db4>\u001b[0m in \u001b[0;36m<module>\u001b[0;34m()\u001b[0m\n\u001b[1;32m      3\u001b[0m \u001b[0mThe\u001b[0m \u001b[0mgoal\u001b[0m \u001b[0;32mis\u001b[0m \u001b[0mto\u001b[0m \u001b[0mend\u001b[0m \u001b[0mup\u001b[0m \u001b[0;32mwith\u001b[0m \u001b[0mabout\u001b[0m \u001b[0;36m100\u001b[0m\u001b[0mk\u001b[0m \u001b[0mSNPs\u001b[0m \u001b[0;32mfor\u001b[0m \u001b[0ma\u001b[0m \u001b[0mGWAS\u001b[0m \u001b[0mstudy\u001b[0m \u001b[0;34m(\u001b[0m\u001b[0;34m>=\u001b[0m \u001b[0;36m500\u001b[0m\u001b[0mk\u001b[0m \u001b[0mSNPs\u001b[0m \u001b[0mgenome\u001b[0m\u001b[0;34m-\u001b[0m\u001b[0mwide\u001b[0m\u001b[0;34m)\u001b[0m\u001b[0;34m.\u001b[0m\u001b[0;34m\u001b[0m\u001b[0m\n\u001b[1;32m      4\u001b[0m Then proceed with identification of related samples.'''\n\u001b[0;32m----> 5\u001b[0;31m \u001b[0mprune_in_file\u001b[0m \u001b[0;34m=\u001b[0m \u001b[0moutput_filestem\u001b[0m \u001b[0;34m+\u001b[0m \u001b[0;34m'.prune.in'\u001b[0m\u001b[0;34m\u001b[0m\u001b[0m\n\u001b[0m\u001b[1;32m      6\u001b[0m \u001b[0munlinked_variant_count\u001b[0m \u001b[0;34m=\u001b[0m \u001b[0mget_ipython\u001b[0m\u001b[0;34m(\u001b[0m\u001b[0;34m)\u001b[0m\u001b[0;34m.\u001b[0m\u001b[0mgetoutput\u001b[0m\u001b[0;34m(\u001b[0m\u001b[0;34mu'cat $prune_in_file | wc -l'\u001b[0m\u001b[0;34m)\u001b[0m\u001b[0;34m\u001b[0m\u001b[0m\n\u001b[1;32m      7\u001b[0m \u001b[0;32mprint\u001b[0m \u001b[0;34m\"Unlinked (LD-pruned) genetic variant count: \"\u001b[0m \u001b[0;34m+\u001b[0m \u001b[0mstr\u001b[0m\u001b[0;34m(\u001b[0m\u001b[0munlinked_variant_count\u001b[0m\u001b[0;34m)\u001b[0m\u001b[0;34m\u001b[0m\u001b[0m\n",
      "\u001b[0;31mNameError\u001b[0m: name 'output_filestem' is not defined"
     ]
    }
   ],
   "source": [
    "'''If the above output pruned too few or too many SNPs, adjust the linkage R^2 value \n",
    "Increase R^2 to retain more SNPs, decrease to prune more.\n",
    "The goal is to end up with about 100k SNPs for a GWAS study (>= 500k SNPs genome-wide).\n",
    "Then proceed with identification of related samples.'''\n",
    "prune_in_file = input_filestem + '.prune.in'\n",
    "unlinked_variant_count = !cat $prune_in_file | wc -l\n",
    "print \"Unlinked (LD-pruned) genetic variant count: \" + str(unlinked_variant_count)\n",
    "!plink --bfile $input_filestem --extract $prune_in_file --genome --out $input_filestem\n",
    "#That command should generate a *.genome file."
   ]
  },
  {
   "cell_type": "code",
   "execution_count": null,
   "metadata": {
    "collapsed": true
   },
   "outputs": [],
   "source": [
    "genome_file = input_filestem + '.genome'\n",
    "#Clean up the whitespace:\n",
    "!perl -i.bak -lpe 's/^\\s+//; s/\\s+/\\t/g;' $genome_file\n",
    "genome_file_line_count = !wc -l $genome_file\n",
    "print \"Line count in genome file (used for relationship estimation): \" + str(genome_file_line_count)\n",
    "!head $genome_file"
   ]
  },
  {
   "cell_type": "code",
   "execution_count": null,
   "metadata": {
    "collapsed": true
   },
   "outputs": [],
   "source": [
    "'''Generate a file containing FID:IID pairs of individuals to be excluded on the basis of relatedness.\n",
    "Exclude the individual with greater missingness from any pair of individuals that are related more than first cousins.'''\n",
    "imiss, removed = dict(), set()\n",
    "\n",
    "with open(imiss_file) as imiss_in, open(genome_file) as genome_in, open('fail-IBD-QC.txt', 'w') as fail_IBD_out:\n",
    "    #Read the missingness into a dictionary.\n",
    "    header = imiss_in.readline()\n",
    "    for line in imiss_in:\n",
    "        fid, iid, miss_pheno, n_miss, n_geno, f_miss = line.rstrip().split(\"\\t\") #File was already whitespace-cleaned.\n",
    "        imiss[(fid, iid)] = float(f_miss) #Key by FID:IID tuple, value by F_MISS (missing frequency).\n",
    "        \n",
    "    #Now exclude related samples. Drop whichever one has higher missingness.\n",
    "    header = genome_in.readline()\n",
    "    for line in genome_in:\n",
    "        fid1, iid1, fid2, iid2, rt, ez, z0, z1, z2, pi_hat, phe, dst, ppc, ratio = line.rstrip().split(\"\\t\")\n",
    "        if float(pi_hat) > 0.185:\n",
    "            if imiss[(fid1, iid1)] >= imiss[(fid2, iid2)]: #The first sample has higher missingness.\n",
    "                if (fid1, iid1) not in removed:\n",
    "                    fail_IBD_out.write(\"\\t\".join([fid1, iid1]) + \"\\n\")\n",
    "                    removed.add((fid1, iid1)) #Remember that we already excluded this FID:IID pair.\n",
    "            else: #The second sample has higher missingness.\n",
    "                if (fid2, iid2) not in removed:\n",
    "                    fail_IBD_out.write(\"\\t\".join([fid2, iid2]) + \"\\n\")\n",
    "                    removed.add((fid2, iid2))\n",
    "\n",
    "fail_IBD_count = !cat fail-IBD-QC.txt | wc -l\n",
    "print \"Number of samples that failed IBD QC: \" + str(fail_IBD_count)"
   ]
  },
  {
   "cell_type": "code",
   "execution_count": null,
   "metadata": {
    "collapsed": true
   },
   "outputs": [],
   "source": [
    "'''Now exclude the related samples from the study.'''\n",
    "!plink --bfile $input_filestem --remove fail-IBD-QC.txt --make-bed --out $input_filestem"
   ]
  },
  {
   "cell_type": "code",
   "execution_count": null,
   "metadata": {
    "collapsed": true
   },
   "outputs": [],
   "source": [
    "'''Now that related samples have been excluded, repeat the marker callrate, sample callrate, and MAF filtering.'''\n"
   ]
  },
  {
   "cell_type": "code",
   "execution_count": null,
   "metadata": {
    "collapsed": true
   },
   "outputs": [],
   "source": [
    "'''7) Marker callrate.'''\n",
    "!plink --bfile $input_filestem --geno $max_missing_marker_callrate --make-bed --out $input_filestem"
   ]
  },
  {
   "cell_type": "code",
   "execution_count": null,
   "metadata": {
    "collapsed": true
   },
   "outputs": [],
   "source": [
    "'''8) Sample callrate.'''\n",
    "!plink --bfile $input_filestem --mind $max_missing_sample_callrate --out $input_filestem"
   ]
  },
  {
   "cell_type": "code",
   "execution_count": null,
   "metadata": {
    "collapsed": true
   },
   "outputs": [],
   "source": [
    "'''9) MAF'''\n",
    "!plink --bfile $input_filestem --min_maf 0.01 --make-bed --out $input_filestem"
   ]
  },
  {
   "cell_type": "code",
   "execution_count": null,
   "metadata": {
    "collapsed": true
   },
   "outputs": [],
   "source": [
    "'''10) HWE'''\n",
    "!plink --bfile $input_filestem --hwe $min_hwe_p --midp --include-nonctrl --make-bed --out $input_filestem\n",
    "'''If you wish to base this test only on cases,\n",
    "which requires your PED file to have accurate case/control phenotype encodings,\n",
    "you can omit the --include-nonctrl option.\n",
    "The mid-p modifier is recommended by Plink.'''"
   ]
  },
  {
   "cell_type": "code",
   "execution_count": null,
   "metadata": {
    "collapsed": true
   },
   "outputs": [],
   "source": [
    "'''11) Differential missingness (differential sample callrate).\n",
    "This step relies on accurate case/control phenotype encodings in the FAM file.'''\n",
    "!plink --bfile $input_filestem --test-missing --out $input_filestem\n",
    "diffmiss_file = $input_filestem + '.missing'\n",
    "!perl -i.bak -lpe 's/^\\s+//; s/\\s+/\\t/g;' {diffmiss_file} #Clean up whitespace.\n",
    "diffmiss_snp_count = 0\n",
    "with open('fail-diffmis-qc.txt', 'w') as fail_diffmiss, open(diffmiss_file) as diffmiss:\n",
    "    header = diffmiss.readline() #Skip header line.\n",
    "    for line in diffmiss:\n",
    "        CHROM, SNP, F_MISS_A, F_MISS_U, P = line.rstrip().split(\"\\t\")\n",
    "        if P < min_diffmis_p:\n",
    "            diffmiss_snp_count += 1\n",
    "            fail_difmiss.write(SNP + \"\\n\")"
   ]
  },
  {
   "cell_type": "code",
   "execution_count": null,
   "metadata": {
    "collapsed": true
   },
   "outputs": [],
   "source": []
  }
 ],
 "metadata": {
  "kernelspec": {
   "display_name": "Python 2",
   "language": "python",
   "name": "python2"
  },
  "language_info": {
   "codemirror_mode": {
    "name": "ipython",
    "version": 2
   },
   "file_extension": ".py",
   "mimetype": "text/x-python",
   "name": "python",
   "nbconvert_exporter": "python",
   "pygments_lexer": "ipython2",
   "version": "2.7.11"
  }
 },
 "nbformat": 4,
 "nbformat_minor": 2
}
