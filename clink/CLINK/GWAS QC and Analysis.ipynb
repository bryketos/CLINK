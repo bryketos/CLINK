{
 "cells": [
  {
   "cell_type": "markdown",
   "metadata": {},
   "source": [
    "# GWAS QC and Analysis\n",
    "## Copyright Brian S. Cole, PhD 2017\n",
    "\n",
    "A Jupyter Notebook for Reproducible Quality Control of Genotypes and Genotyped Samples Followed by Genotype-Phenotype Analysis using Cloud Computing and Open Source Tools.\n",
    "\n",
    "This work presents an example GWAS workthrough.  Users are encouraged to use this example notebook to generate their own notebooks that document and visualize their GWAS analyses.  Commonly used tools are highlighted, including PLINK, R, Python, and Perl, however this notebook is flexible and users are encouraged to customize this workflow to fit the demands of their analysis.\n",
    "\n",
    "This document can therefore serve as a template for customization, then the resulting analysis can be easily shared in notebook form.  Note that this does not hold if the user develops external scripts/programs that are called from this notebook.  Those must be included separately, for example in a hardware virtual machine image (e.g. AMI) or container service."
   ]
  },
  {
   "cell_type": "markdown",
   "metadata": {},
   "source": [
    "## Table of contents\n",
    "1. Introduction\n",
    "  1. Genotype-phenotype Association Studies (GWAS)\n",
    "  2. GWAS QC Protects Against Spurious Results\n",
    "  3. Individual-level QC Removes Samples\n",
    "  4. Variant-level QC Removes Genetic Variants\n",
    "  5. Harnessing the Cloud for Reproducible GWAS\n",
    "2. Individual-level QC\n",
    "  1. Gender Concordance\n",
    "  2. Missing Genotypes\n",
    "  3. Outlying Heterozygosity\n",
    "  4. Identity-by-Descent Control (IBD)\n",
    "  5. Removing Individuals that Failed QC\n",
    "3. Variant-level QC\n",
    "  1. Callrate Control (genotype missingness)\n",
    "  2. Differential Callrate (for case/control studies)\n",
    "  3. Hardy-Weinberg Equilibrium Control\n",
    "  4. Minor Allele Frequency Control\n",
    "  5. Removing Variants that Failed QC\n",
    "4. (Optional) Population Structure\n",
    "  1. Quantifying Population Structure\n",
    "  2. Estimating Genetic Relationships\n",
    "5. Case/control GWAS\n",
    "  1. Logistic regression\n",
    "  2. Covariate adjustment\n",
    "  3. Interpreting Results\n",
    "6. Quantitative Trait GWAS\n",
    "  1. Linear Regression\n",
    "  2. Covariate Adjustment\n",
    "  3. Interpreting Results\n",
    "7. Survival GWAS\n",
    "  1. Cox Proportional Hazards Regression\n",
    "  2. Covariate Adjustment\n",
    "  3. Interpreting Results\n",
    "8. Data Egress and Instance Termination\n",
    "  1. Moving Data and Results Out\n",
    "  2. Sharing Notebooks for Reproducible Analysis\n",
    "  3. Cleanup and Termination"
   ]
  },
  {
   "cell_type": "markdown",
   "metadata": {},
   "source": [
    "## Introduction\n",
    "#### Genotype-Phenotype Association Studies (GWAS)\n",
    "The advent of low-cost, high-throughput genotyping technologies has enabled scientific research into the association between variation in phenotypes within a set of unrelated individuals sampled from a population and the variation in genotypes within this set of samples.  This analysis, commonly referred to as Genome-Wide Association Study or GWAS, has the power to identify particular genotypes which are associated with quantitative traits, case/control status, survival outcomes, and other traits.  \n",
    "\n",
    "Over the last decade, studies of thousands of traits have accumulated, ushering in a new era of knowledge integration. However, failure to replicate and reproduce GWAS results has led to a complicated situation in which the generalizability and utility of genotype-phenotype associations is not guaranteed by current analysis methodologies.  We propose that cloud computing and open source tools can provide enhanced reproducibility by coupling stateful, virtualized hardware with open-source software.  This document outlines a GWAS QC and analysis workflow which users can recreate using their own data, including modifications of the workflow to fit their needs.  The resulting notebook can be shared, version-controlled, and reproduced.\n",
    "\n",
    "#### GWAS QC Protects Against Spurious Results\n",
    "GWAS analyses typically require that several assumptions are met, otherwise the analysis is not valid.  The primary goal of GWAS Quality Control (QC) is to remove sources of false positive genotype-phenotype associations.  These sources of spurious results are the result of the statistical analysis, the technologies used to obtain genotypes, and the properties of genotypes within populations.\n",
    "\n",
    "This notebook will use a QC approach tooled around the PLINK software (GPLv3) by Shaun Purcell and Christopher Chang, which is available at http://pngu.mgh.harvard.edu/purcell/plink/ and is described in the following work:\n",
    "\n",
    "Purcell S, Neale B, Todd-Brown K, Thomas L, Ferreira MAR, Bender D, Maller J, Sklar P, de Bakker PIW, Daly MJ & Sham PC (2007) PLINK: a toolset for whole-genome association and population-based linkage analysis. American Journal of Human Genetics, 81.\n",
    "\n",
    "The methodology behind the QC approach in this notebook is described in this work:\n",
    "\n",
    "Anderson CA, Pettersson FH, Clarke GM, Cardon LR, Morris AP, Zondervan KT. Data quality control in genetic case-control association studies. Nature protocols. 2010;5(9):1564-1573. doi:10.1038/nprot.2010.116.\n",
    "\n",
    "\n",
    "#### Individual-level QC Removes Samples\n",
    "The goal of individual-level QC phase is to remove samples (sometimes called \"subjects\") which should not be included in the analysis.  These reasons include gender discordance between phenotype and genotype, relatedness to other samples which would violate the assumption of unrelated samples that underlies GWAS hypothesis testing, potential contamination of multiple samples which would yield unreliable genotyping, and low genotyping coverage which might indicate degraded DNA and/or technical failure of DNA preparation.  \n",
    "\n",
    "#### Variant-level QC Removes Genetic Variants\n",
    "The goal of the latter phase is to remove genotypes of poor quality.  Reasons for exclusion of individual genotypes include departure from Hardy Weinberg Equilibrium which might denote clustering failures during genotype calling (preventing one of two homozygous genotypes at a biallelic locus from being called, for example), absence of genotype calls from a subset of samples, significantly different genotyping rate between cases and controls, and (optionally) removal of rare variants which are unlikely to give rise to statistically significant association results for complex traits.\n",
    "\n",
    "#### Harnessing the Cloud for Reproducible GWAS\n",
    "Cloud computing provides abstractions for scalable, elastic, durable, safe, affordable, on-demand, reproducible computation.  Importantly, this notebook can be run on an Amazon Web Services (AWS) Elastic Compute Cloud (EC2) instance coupled with encrypted Elastic Block Storage (EBS) volume to hold the user's data during analyiss.  The resulting notebook can be used to create a git repository for version control, cloning off the cloud, and sharing with others.  Importantly, the notebook can be customized and shared, documenting a user's analysis in a reproducible way.\n",
    "The goal is to utilize notebooks as a framework for analysis in the cloud, decoupling the analyst from the computational infrastructure as entirely as is possible.  The cloud then provides mechanisms for snapshotting data (EBS snapshots), storing notebooks for distribution and reuse (S3), containerizing workflows (ECS), collaboration and resource management, and much more.\n",
    "Users may also connect to their EC2 instances and run all commands documented here individually.  This is recommended for users who wish to develop customized tools (for example, scripts) to supplement this notebook.  It is important to note that any external tools that this notebook uses will then become reproducibility dependencies.  Users are therefore encouraged to use open source licenses and create their own virtual appliances which include their external tools (e.g. custom scripts) by using Amazon Machine Images or other technology.\n",
    "\n",
    "    "
   ]
  },
  {
   "cell_type": "code",
   "execution_count": 13,
   "metadata": {
    "collapsed": false
   },
   "outputs": [
    {
     "name": "stdout",
     "output_type": "stream",
     "text": [
      "The rpy2.ipython extension is already loaded. To reload it, use:\n",
      "  %reload_ext rpy2.ipython\n"
     ]
    }
   ],
   "source": [
    "'''Prepare the notebook. Run this cell first.'''\n",
    "import os, re, sys\n",
    "import pandas as pd\n",
    "import numpy as np\n",
    "%load_ext rpy2.ipython"
   ]
  },
  {
   "cell_type": "code",
   "execution_count": 14,
   "metadata": {
    "collapsed": false
   },
   "outputs": [
    {
     "name": "stdout",
     "output_type": "stream",
     "text": [
      "/clink/NEIGHBOR\n"
     ]
    }
   ],
   "source": [
    "'''Make analysis directory and upload your data'''\n",
    "\n",
    "import os\n",
    "study_dir = '/home/brian/clink/NEIGHBOR/' #Can change this variable to suit your study.\n",
    "if not os.path.isdir(study_dir): os.mkdir(study_dir)\n",
    "%cd {study_dir}\n",
    "\n",
    "#You can either upload data to the EC2 instance using the key pair you specified at instance launch,\n",
    "#  for instance using scp from a system that has your data,\n",
    "#  or you can fetch the data from this instance using SFTP/rsync/curl/wget/s3\n",
    "\n",
    "#Remember that if you want to pull data from a private S3 bucket, the EC2 instance needs to assume an IAM role,\n",
    "#  and that bucket must be configured for the EC2 instance's IAM role.\n",
    "\n",
    "#In this example, I used scp from a firewalled and secured workstation to securely upload a Plink study to the EC2 instance.\n",
    "#I used a command like this from my workstation:\n",
    "#scp -i my_key_pair.pem my_study.* ec2-user@<IPv4_public_IP>:/gwas/my_study/\n",
    "#  ..where <IPv4_public_IP> is the public IPv4 address of the EC2 instance running this notebook.\n",
    "\n",
    "input_filestem  = 'merged_neighbor' #Set this variable to the Plink filestem of your study.\n",
    "output_filestem = 'clean-' + input_filestem #Generate a new filestem for post-QC data."
   ]
  },
  {
   "cell_type": "markdown",
   "metadata": {},
   "source": [
    "## 2: Individual-level QC\n",
    "Our strategy here will be to identify individuals with discordant genders, too many missing genotypes, and outlying heterozygosity.  We'll save the IDs of these individuals to text files, then at the end we'll combine these files and remove the individuals who failed individual-level QC.  We'll generate a new file with clean individuals, and this file will be used in variant-level QC."
   ]
  },
  {
   "cell_type": "markdown",
   "metadata": {},
   "source": [
    "### 2A: Gender Concordance\n",
    "Gender concordance serves as a check of your phenotype and genotype data.  You should see very few, if any, instances in which the phenotypic gender, which is provided in the Plink \\*.fam file, does not match Plink's guess from looking at the genotypes.  All individuals who fail this step will be excluded from further analysis."
   ]
  },
  {
   "cell_type": "code",
   "execution_count": 21,
   "metadata": {
    "collapsed": false,
    "scrolled": true
   },
   "outputs": [
    {
     "name": "stdout",
     "output_type": "stream",
     "text": [
      "PLINK v1.90b4.1 64-bit (30 Mar 2017)           www.cog-genomics.org/plink/1.9/\n",
      "(C) 2005-2017 Shaun Purcell, Christopher Chang   GNU General Public License v3\n",
      "Logging to merged_neighbor.log.\n",
      "Options in effect:\n",
      "  --bfile merged_neighbor\n",
      "  --check-sex\n",
      "  --out merged_neighbor\n",
      "\n",
      "64329 MB RAM detected; reserving 32164 MB for main workspace.\n",
      "655216 variants loaded from .bim file.\n",
      "5183 people (2299 males, 2752 females, 132 ambiguous) loaded from .fam.\n",
      "Ambiguous sex IDs written to merged_neighbor.nosex .\n",
      "5051 phenotype values loaded from .fam.\n",
      "Using 1 thread (no multithreaded calculations invoked).\n",
      "Before main variant filters, 5183 founders and 0 nonfounders present.\n",
      "Calculating allele frequencies... 0%\b\b1%\b\b2%\b\b3%\b\b4%\b\b5%\b\b6%\b\b7%\b\b8%\b\b9%\b\b10%\b\b\b11%\b\b\b12%\b\b\b13%\b\b\b14%\b\b\b15%\b\b\b16%\b\b\b17%\b\b\b18%\b\b\b19%\b\b\b20%\b\b\b21%\b\b\b22%\b\b\b23%\b\b\b24%\b\b\b25%\b\b\b26%\b\b\b27%\b\b\b28%\b\b\b29%\b\b\b30%\b\b\b31%\b\b\b32%\b\b\b33%\b\b\b34%\b\b\b35%\b\b\b36%\b\b\b37%\b\b\b38%\b\b\b39%\b\b\b40%\b\b\b41%\b\b\b42%\b\b\b43%\b\b\b44%\b\b\b45%\b\b\b46%\b\b\b47%\b\b\b48%\b\b\b49%\b\b\b50%\b\b\b51%\b\b\b52%\b\b\b53%\b\b\b54%\b\b\b55%\b\b\b56%\b\b\b57%\b\b\b58%\b\b\b59%\b\b\b60%\b\b\b61%\b\b\b62%\b\b\b63%\b\b\b64%\b\b\b65%\b\b\b66%\b\b\b67%\b\b\b68%\b\b\b69%\b\b\b70%\b\b\b71%\b\b\b72%\b\b\b73%\b\b\b74%\b\b\b75%\b\b\b76%\b\b\b77%\b\b\b78%\b\b\b79%\b\b\b80%\b\b\b81%\b\b\b82%\b\b\b83%\b\b\b84%\b\b\b85%\b\b\b86%\b\b\b87%\b\b\b88%\b\b\b89%\b\b\b90%\b\b\b91%\b\b\b92%\b\b\b93%\b\b\b94%\b\b\b95%\b\b\b96%\b\b\b97%\b\b\b98%\b\b\b99%\b\b\b\b done.\n",
      "Warning: 11950 het. haploid genotypes present (see merged_neighbor.hh ); many\n",
      "commands treat these as missing.\n",
      "Warning: Nonmissing nonmale Y chromosome genotype(s) present; many commands\n",
      "treat these as missing.\n",
      "Total genotyping rate is 0.849377.\n",
      "655216 variants and 5183 people pass filters and QC.\n",
      "Phenotype data is quantitative.\n",
      "--check-sex: 13098 Xchr and 0 Ychr variant(s) scanned, 151 problems detected.\n",
      "Report written to merged_neighbor.sexcheck .\n"
     ]
    }
   ],
   "source": [
    "'''Run sex check using plink.'''\n",
    "\n",
    "#This should generate a *.sexcheck file for our study\n",
    "!plink --bfile $input_filestem --check-sex --out $input_filestem"
   ]
  },
  {
   "cell_type": "code",
   "execution_count": 23,
   "metadata": {
    "collapsed": false
   },
   "outputs": [
    {
     "name": "stdout",
     "output_type": "stream",
     "text": [
      "Number of gender discordances detected: ['151']\n",
      "         FID          IID       PEDSEX       SNPSEX       STATUS            F\n",
      "      ME8001       ME8001            0            2      PROBLEM     -0.03585\n",
      "      ME8002       ME8002            0            1      PROBLEM            1\n",
      "      ME8003       ME8003            0            1      PROBLEM            1\n",
      "      ME8004       ME8004            0            2      PROBLEM    -0.004742\n",
      "      ME8005       ME8005            0            2      PROBLEM     -0.04665\n"
     ]
    }
   ],
   "source": [
    "sexcheck_file = input_filestem + '.sexcheck'\n",
    "sexprobs_file = input_filestem + '.sexprobs'\n",
    "\n",
    "!fgrep PROBLEM $sexcheck_file > $sexprobs_file\n",
    "sexproblems = !cat $sexprobs_file | wc -l\n",
    "print(\"Number of gender discordances detected: \" + str(sexproblems))\n",
    "\n",
    "#Save the FID and IID of the individuals that failed qc, if any.\n",
    "#It's okay to generate an empty file here - we'll count the lines of each fail-* file later for a sumamry.\n",
    "!perl -lne 's/^\\s+//; @f = split; print join \"\\t\", (@f[0..1])' $sexprobs_file >fail-sexcheck-qc.txt\n",
    "\n",
    "#At this point, inspect the reasons for any gender discordances.  In this case, some genders are missing in the ped file:\n",
    "!head -1 $sexcheck_file #For the header.\n",
    "!head -5 $sexprobs_file #Check out the first 5 discordances."
   ]
  },
  {
   "cell_type": "code",
   "execution_count": 24,
   "metadata": {
    "collapsed": false
   },
   "outputs": [
    {
     "name": "stdout",
     "output_type": "stream",
     "text": [
      "PLINK v1.90b4.1 64-bit (30 Mar 2017)           www.cog-genomics.org/plink/1.9/\n",
      "(C) 2005-2017 Shaun Purcell, Christopher Chang   GNU General Public License v3\n",
      "Logging to clean-merged_neighbor.log.\n",
      "Options in effect:\n",
      "  --bfile merged_neighbor\n",
      "  --geno 0.01\n",
      "  --make-bed\n",
      "  --out clean-merged_neighbor\n",
      "\n",
      "64329 MB RAM detected; reserving 32164 MB for main workspace.\n",
      "655216 variants loaded from .bim file.\n",
      "5183 people (2299 males, 2752 females, 132 ambiguous) loaded from .fam.\n",
      "Ambiguous sex IDs written to clean-merged_neighbor.nosex .\n",
      "5051 phenotype values loaded from .fam.\n",
      "Using 1 thread (no multithreaded calculations invoked).\n",
      "Before main variant filters, 5183 founders and 0 nonfounders present.\n",
      "Calculating allele frequencies... 0%\b\b1%\b\b2%\b\b3%\b\b4%\b\b5%\b\b6%\b\b7%\b\b8%\b\b9%\b\b10%\b\b\b11%\b\b\b12%\b\b\b13%\b\b\b14%\b\b\b15%\b\b\b16%\b\b\b17%\b\b\b18%\b\b\b19%\b\b\b20%\b\b\b21%\b\b\b22%\b\b\b23%\b\b\b24%\b\b\b25%\b\b\b26%\b\b\b27%\b\b\b28%\b\b\b29%\b\b\b30%\b\b\b31%\b\b\b32%\b\b\b33%\b\b\b34%\b\b\b35%\b\b\b36%\b\b\b37%\b\b\b38%\b\b\b39%\b\b\b40%\b\b\b41%\b\b\b42%\b\b\b43%\b\b\b44%\b\b\b45%\b\b\b46%\b\b\b47%\b\b\b48%\b\b\b49%\b\b\b50%\b\b\b51%\b\b\b52%\b\b\b53%\b\b\b54%\b\b\b55%\b\b\b56%\b\b\b57%\b\b\b58%\b\b\b59%\b\b\b60%\b\b\b61%\b\b\b62%\b\b\b63%\b\b\b64%\b\b\b65%\b\b\b66%\b\b\b67%\b\b\b68%\b\b\b69%\b\b\b70%\b\b\b71%\b\b\b72%\b\b\b73%\b\b\b74%\b\b\b75%\b\b\b76%\b\b\b77%\b\b\b78%\b\b\b79%\b\b\b80%\b\b\b81%\b\b\b82%\b\b\b83%\b\b\b84%\b\b\b85%\b\b\b86%\b\b\b87%\b\b\b88%\b\b\b89%\b\b\b90%\b\b\b91%\b\b\b92%\b\b\b93%\b\b\b94%\b\b\b95%\b\b\b96%\b\b\b97%\b\b\b98%\b\b\b99%\b\b\b\b done.\n",
      "Warning: 11950 het. haploid genotypes present (see clean-merged_neighbor.hh );\n",
      "many commands treat these as missing.\n",
      "Warning: Nonmissing nonmale Y chromosome genotype(s) present; many commands\n",
      "treat these as missing.\n",
      "Total genotyping rate is 0.849377.\n",
      "107404 variants removed due to missing genotype data (--geno).\n",
      "547812 variants and 5183 people pass filters and QC.\n",
      "Phenotype data is quantitative.\n",
      "--make-bed to clean-merged_neighbor.bed + clean-merged_neighbor.bim +\n",
      "clean-merged_neighbor.fam ... 0%\b\b1%\b\b2%\b\b3%\b\b4%\b\b5%\b\b6%\b\b7%\b\b8%\b\b9%\b\b10%\b\b\b11%\b\b\b12%\b\b\b13%\b\b\b14%\b\b\b15%\b\b\b16%\b\b\b17%\b\b\b18%\b\b\b19%\b\b\b20%\b\b\b21%\b\b\b22%\b\b\b23%\b\b\b24%\b\b\b25%\b\b\b26%\b\b\b27%\b\b\b28%\b\b\b29%\b\b\b30%\b\b\b31%\b\b\b32%\b\b\b33%\b\b\b34%\b\b\b35%\b\b\b36%\b\b\b37%\b\b\b38%\b\b\b39%\b\b\b40%\b\b\b41%\b\b\b42%\b\b\b43%\b\b\b44%\b\b\b45%\b\b\b46%\b\b\b47%\b\b\b48%\b\b\b49%\b\b\b50%\b\b\b51%\b\b\b52%\b\b\b53%\b\b\b54%\b\b\b55%\b\b\b56%\b\b\b57%\b\b\b58%\b\b\b59%\b\b\b60%\b\b\b61%\b\b\b62%\b\b\b63%\b\b\b64%\b\b\b65%\b\b\b66%\b\b\b67%\b\b\b68%\b\b\b69%\b\b\b70%\b\b\b71%\b\b\b72%\b\b\b73%\b\b\b74%\b\b\b75%\b\b\b76%\b\b\b77%\b\b\b78%\b\b\b79%\b\b\b80%\b\b\b81%\b\b\b82%\b\b\b83%\b\b\b84%\b\b\b85%\b\b\b86%\b\b\b87%\b\b\b88%\b\b\b89%\b\b\b90%\b\b\b91%\b\b\b92%\b\b\b93%\b\b\b94%\b\b\b95%\b\b\b96%\b\b\b97%\b\b\b98%\b\b\b99%\b\b\bdone.\n"
     ]
    }
   ],
   "source": [
    "'''Remove SNPs that are missing in too many samples.'''\n",
    "!plink --bfile $input_filestem --geno 0.01 --make-bed --out $output_filestem"
   ]
  },
  {
   "cell_type": "code",
   "execution_count": 25,
   "metadata": {
    "collapsed": false
   },
   "outputs": [
    {
     "name": "stdout",
     "output_type": "stream",
     "text": [
      "PLINK v1.90b4.1 64-bit (30 Mar 2017)           www.cog-genomics.org/plink/1.9/\n",
      "(C) 2005-2017 Shaun Purcell, Christopher Chang   GNU General Public License v3\n",
      "Logging to merged_neighbor.log.\n",
      "Options in effect:\n",
      "  --bfile merged_neighbor\n",
      "  --missing\n",
      "  --out merged_neighbor\n",
      "\n",
      "64329 MB RAM detected; reserving 32164 MB for main workspace.\n",
      "655216 variants loaded from .bim file.\n",
      "5183 people (2299 males, 2752 females, 132 ambiguous) loaded from .fam.\n",
      "Ambiguous sex IDs written to merged_neighbor.nosex .\n",
      "5051 phenotype values loaded from .fam.\n",
      "Using 1 thread (no multithreaded calculations invoked).\n",
      "Before main variant filters, 5183 founders and 0 nonfounders present.\n",
      "Calculating allele frequencies... 0%\b\b1%\b\b2%\b\b3%\b\b4%\b\b5%\b\b6%\b\b7%\b\b8%\b\b9%\b\b10%\b\b\b11%\b\b\b12%\b\b\b13%\b\b\b14%\b\b\b15%\b\b\b16%\b\b\b17%\b\b\b18%\b\b\b19%\b\b\b20%\b\b\b21%\b\b\b22%\b\b\b23%\b\b\b24%\b\b\b25%\b\b\b26%\b\b\b27%\b\b\b28%\b\b\b29%\b\b\b30%\b\b\b31%\b\b\b32%\b\b\b33%\b\b\b34%\b\b\b35%\b\b\b36%\b\b\b37%\b\b\b38%\b\b\b39%\b\b\b40%\b\b\b41%\b\b\b42%\b\b\b43%\b\b\b44%\b\b\b45%\b\b\b46%\b\b\b47%\b\b\b48%\b\b\b49%\b\b\b50%\b\b\b51%\b\b\b52%\b\b\b53%\b\b\b54%\b\b\b55%\b\b\b56%\b\b\b57%\b\b\b58%\b\b\b59%\b\b\b60%\b\b\b61%\b\b\b62%\b\b\b63%\b\b\b64%\b\b\b65%\b\b\b66%\b\b\b67%\b\b\b68%\b\b\b69%\b\b\b70%\b\b\b71%\b\b\b72%\b\b\b73%\b\b\b74%\b\b\b75%\b\b\b76%\b\b\b77%\b\b\b78%\b\b\b79%\b\b\b80%\b\b\b81%\b\b\b82%\b\b\b83%\b\b\b84%\b\b\b85%\b\b\b86%\b\b\b87%\b\b\b88%\b\b\b89%\b\b\b90%\b\b\b91%\b\b\b92%\b\b\b93%\b\b\b94%\b\b\b95%\b\b\b96%\b\b\b97%\b\b\b98%\b\b\b99%\b\b\b\b done.\n",
      "Warning: 11950 het. haploid genotypes present (see merged_neighbor.hh ); many\n",
      "commands treat these as missing.\n",
      "Warning: Nonmissing nonmale Y chromosome genotype(s) present; many commands\n",
      "treat these as missing.\n",
      "Total genotyping rate is 0.849377.\n",
      "--missing: Sample missing data report written to merged_neighbor.imiss, and\n",
      "variant-based missing data report written to merged_neighbor.lmiss.\n",
      "PLINK v1.90b4.1 64-bit (30 Mar 2017)           www.cog-genomics.org/plink/1.9/\n",
      "(C) 2005-2017 Shaun Purcell, Christopher Chang   GNU General Public License v3\n",
      "Logging to merged_neighbor.log.\n",
      "Options in effect:\n",
      "  --bfile merged_neighbor\n",
      "  --het\n",
      "  --out merged_neighbor\n",
      "\n",
      "64329 MB RAM detected; reserving 32164 MB for main workspace.\n",
      "655216 variants loaded from .bim file.\n",
      "5183 people (2299 males, 2752 females, 132 ambiguous) loaded from .fam.\n",
      "Ambiguous sex IDs written to merged_neighbor.nosex .\n",
      "5051 phenotype values loaded from .fam.\n",
      "Using 1 thread (no multithreaded calculations invoked).\n",
      "Before main variant filters, 5183 founders and 0 nonfounders present.\n",
      "Calculating allele frequencies... 0%\b\b1%\b\b2%\b\b3%\b\b4%\b\b5%\b\b6%\b\b7%\b\b8%\b\b9%\b\b10%\b\b\b11%\b\b\b12%\b\b\b13%\b\b\b14%\b\b\b15%\b\b\b16%\b\b\b17%\b\b\b18%\b\b\b19%\b\b\b20%\b\b\b21%\b\b\b22%\b\b\b23%\b\b\b24%\b\b\b25%\b\b\b26%\b\b\b27%\b\b\b28%\b\b\b29%\b\b\b30%\b\b\b31%\b\b\b32%\b\b\b33%\b\b\b34%\b\b\b35%\b\b\b36%\b\b\b37%\b\b\b38%\b\b\b39%\b\b\b40%\b\b\b41%\b\b\b42%\b\b\b43%\b\b\b44%\b\b\b45%\b\b\b46%\b\b\b47%\b\b\b48%\b\b\b49%\b\b\b50%\b\b\b51%\b\b\b52%\b\b\b53%\b\b\b54%\b\b\b55%\b\b\b56%\b\b\b57%\b\b\b58%\b\b\b59%\b\b\b60%\b\b\b61%\b\b\b62%\b\b\b63%\b\b\b64%\b\b\b65%\b\b\b66%\b\b\b67%\b\b\b68%\b\b\b69%\b\b\b70%\b\b\b71%\b\b\b72%\b\b\b73%\b\b\b74%\b\b\b75%\b\b\b76%\b\b\b77%\b\b\b78%\b\b\b79%\b\b\b80%\b\b\b81%\b\b\b82%\b\b\b83%\b\b\b84%\b\b\b85%\b\b\b86%\b\b\b87%\b\b\b88%\b\b\b89%\b\b\b90%\b\b\b91%\b\b\b92%\b\b\b93%\b\b\b94%\b\b\b95%\b\b\b96%\b\b\b97%\b\b\b98%\b\b\b99%\b\b\b\b done.\n",
      "Warning: 11950 het. haploid genotypes present (see merged_neighbor.hh ); many\n",
      "commands treat these as missing.\n",
      "Warning: Nonmissing nonmale Y chromosome genotype(s) present; many commands\n",
      "treat these as missing.\n",
      "Total genotyping rate is 0.849377.\n",
      "655216 variants and 5183 people pass filters and QC.\n",
      "Phenotype data is quantitative.\n",
      "--het: 543257 variants scanned, report written to merged_neighbor.het .\n"
     ]
    }
   ],
   "source": [
    "'''Remove samples that have too many missing SNPs.\n",
    "Generate missingness and heterozygosity reports using Plink.'''\n",
    "!plink --bfile $input_filestem --missing --out $input_filestem\n",
    "!plink --bfile $input_filestem --het     --out $input_filestem"
   ]
  },
  {
   "cell_type": "code",
   "execution_count": 26,
   "metadata": {
    "collapsed": false
   },
   "outputs": [
    {
     "data": {
      "text/html": [
       "<div>\n",
       "<table border=\"1\" class=\"dataframe\">\n",
       "  <thead>\n",
       "    <tr style=\"text-align: right;\">\n",
       "      <th></th>\n",
       "      <th>N_MISS</th>\n",
       "      <th>N_GENO</th>\n",
       "      <th>F_MISS</th>\n",
       "      <th>logF_MISS</th>\n",
       "    </tr>\n",
       "  </thead>\n",
       "  <tbody>\n",
       "    <tr>\n",
       "      <th>count</th>\n",
       "      <td>5183.000000</td>\n",
       "      <td>5183.000000</td>\n",
       "      <td>5183.000000</td>\n",
       "      <td>5183.000000</td>\n",
       "    </tr>\n",
       "    <tr>\n",
       "      <th>mean</th>\n",
       "      <td>98672.371214</td>\n",
       "      <td>655193.186186</td>\n",
       "      <td>0.150601</td>\n",
       "      <td>-0.822191</td>\n",
       "    </tr>\n",
       "    <tr>\n",
       "      <th>std</th>\n",
       "      <td>894.183136</td>\n",
       "      <td>20.370968</td>\n",
       "      <td>0.001365</td>\n",
       "      <td>0.003837</td>\n",
       "    </tr>\n",
       "    <tr>\n",
       "      <th>min</th>\n",
       "      <td>98194.000000</td>\n",
       "      <td>655175.000000</td>\n",
       "      <td>0.149900</td>\n",
       "      <td>-0.824198</td>\n",
       "    </tr>\n",
       "    <tr>\n",
       "      <th>25%</th>\n",
       "      <td>98287.000000</td>\n",
       "      <td>655175.000000</td>\n",
       "      <td>0.150000</td>\n",
       "      <td>-0.823909</td>\n",
       "    </tr>\n",
       "    <tr>\n",
       "      <th>50%</th>\n",
       "      <td>98387.000000</td>\n",
       "      <td>655175.000000</td>\n",
       "      <td>0.150200</td>\n",
       "      <td>-0.823330</td>\n",
       "    </tr>\n",
       "    <tr>\n",
       "      <th>75%</th>\n",
       "      <td>98652.000000</td>\n",
       "      <td>655216.000000</td>\n",
       "      <td>0.150600</td>\n",
       "      <td>-0.822175</td>\n",
       "    </tr>\n",
       "    <tr>\n",
       "      <th>max</th>\n",
       "      <td>115081.000000</td>\n",
       "      <td>655216.000000</td>\n",
       "      <td>0.175600</td>\n",
       "      <td>-0.755475</td>\n",
       "    </tr>\n",
       "  </tbody>\n",
       "</table>\n",
       "</div>"
      ],
      "text/plain": [
       "              N_MISS         N_GENO       F_MISS    logF_MISS\n",
       "count    5183.000000    5183.000000  5183.000000  5183.000000\n",
       "mean    98672.371214  655193.186186     0.150601    -0.822191\n",
       "std       894.183136      20.370968     0.001365     0.003837\n",
       "min     98194.000000  655175.000000     0.149900    -0.824198\n",
       "25%     98287.000000  655175.000000     0.150000    -0.823909\n",
       "50%     98387.000000  655175.000000     0.150200    -0.823330\n",
       "75%     98652.000000  655216.000000     0.150600    -0.822175\n",
       "max    115081.000000  655216.000000     0.175600    -0.755475"
      ]
     },
     "execution_count": 26,
     "metadata": {},
     "output_type": "execute_result"
    }
   ],
   "source": [
    "'''Visualize missingness and heterozygosity from reports.'''\n",
    "\n",
    "imiss_file = input_filestem + '.imiss'\n",
    "het_file   = input_filestem + '.het'\n",
    "\n",
    "\n",
    "#!head {imiss_file} #See how Plink generates some extra whitespace...\n",
    "!perl -i.bak -lpe 's/^\\s+//; s/\\s+/\\t/g;' {imiss_file} {het_file} \n",
    "#!head {imiss_file} #Uncomment to see how this Perl one-liner cleaned up these two files for easy reading.\n",
    "#Now the whitespace is cleaned up, and the original het and imiss files are backed up as *.het.bak and *.imiss.bak\n",
    "\n",
    "imiss = pd.read_table(imiss_file, sep=\"\\t\")\n",
    "het   = pd.read_table(het_file,   sep=\"\\t\")\n",
    "\n",
    "het['meanHet'] = (het['N(NM)'] - het['O(HOM)']) / het['N(NM)'] #Compute mean heterozygosity.\n",
    "imiss['logF_MISS'] = np.log10(imiss['F_MISS']) #This might generate a RuntimeWarning: \"divide by zero encountered in log10\" for genotypes that weren't missing in anybody.\n",
    "\n",
    "#imiss.head()\n",
    "\n",
    "imiss.describe()\n"
   ]
  },
  {
   "cell_type": "code",
   "execution_count": 28,
   "metadata": {
    "collapsed": false
   },
   "outputs": [
    {
     "name": "stdout",
     "output_type": "stream",
     "text": [
      "Summary of log10(missingness): [-0.8242 -0.8239 -0.8233 -0.8222 -0.8222 -0.7555]\n",
      "Summary of mean heterozygosity: [ 0.2349  0.3192  0.3207  0.3207  0.3222  0.3608]\n"
     ]
    },
    {
     "data": {
      "image/png": "[encoded data removed]"
     },
     "metadata": {},
     "output_type": "display_data"
    }
   ],
   "source": [
    "'''Plot missingness versus heterozygosity. Use Rmagic.'''\n",
    "\n",
    "%Rpush imiss_file het_file\n",
    "%R imiss <- read.table(imiss_file, header=T)\n",
    "%R het   <- read.table(het_file,   header=T)\n",
    "\n",
    "#Calculate the log10 of the F_MISS and the mean heterozygosity (among non-missing genotypes).\n",
    "%R imiss$logF_MISS <- log10(imiss$F_MISS)\n",
    "%R het$meanHet     <-  (het$N.NM. - het$O.HOM.)/het$N.NM.\n",
    "\n",
    "%R -o summary_logF_MISS summary_logF_MISS <- summary(imiss$logF_MISS)\n",
    "print(\"Summary of log10(missingness): \" + str(summary_logF_MISS))\n",
    "\n",
    "%R -o summary_meanHet summary_meanHet <- summary(het$meanHet)\n",
    "print(\"Summary of mean heterozygosity: \" + str(summary_meanHet))\n",
    "\n",
    "#Plot the logF_MISS against the mean heterozygosity.\n",
    "#You can modify this plotting command to focus on your range of interest.\n",
    "%R plot(imiss$logF_MISS, het$meanHet, xlim=c(-3,0), ylim=c(0,0.5), pch=1, xlab=\"Proportion of missing genotypes\", ylab=\"Heterozygosity rate\",axes=F); axis(2,at=c(0,0.05,0.10,0.15,0.2,0.25,0.3,0.35,0.4,0.45,0.5),tick=T); axis(1,at=c(-3,-2,-1,0),labels=c(0.001,0.01,0.1,1)); abline(h=mean(het$meanHet) - (2 * sd(het$meanHet)), col=\"RED\",  lty=2); abline(h=mean(het$meanHet) - (3 * sd(het$meanHet)), col=\"gray\", lty=2); abline(h=mean(het$meanHet) + (2 * sd(het$meanHet)), col=\"red\",  lty=2); abline(h=mean(het$meanHet) + (3 * sd(het$meanHet)), col=\"gray\",  lty=2); abline(v=-1.522879, col=\"red\", lty=2)\n"
   ]
  },
  {
   "cell_type": "code",
   "execution_count": 29,
   "metadata": {
    "collapsed": true
   },
   "outputs": [],
   "source": [
    "'''Write file containing FID:IID pairs for individuals with outlying heterozygosity'''\n",
    "%R het.filt <- het[which( het$meanHet > (mean(het$meanHet) + 3 * sd(het$meanHet)) | het$meanHet < (mean(het$meanHet) - 3 * sd(het$meanHet)) ),]\n",
    "%R write.table(het.filt[,c(0,1)], file=\"fail-het-qc.txt\", sep=\"\\t\", row.names=F, quote=F)"
   ]
  },
  {
   "cell_type": "code",
   "execution_count": 31,
   "metadata": {
    "collapsed": false
   },
   "outputs": [
    {
     "name": "stdout",
     "output_type": "stream",
     "text": [
      "Number of individuals who failed heterozygosity QC:['103']\n"
     ]
    }
   ],
   "source": [
    "fail_het_qc_count = !cat fail-het-qc.txt | wc -l\n",
    "\n",
    "print(\"Number of individuals who failed heterozygosity QC:\" + str(fail_het_qc_count))"
   ]
  },
  {
   "cell_type": "code",
   "execution_count": null,
   "metadata": {
    "collapsed": true
   },
   "outputs": [],
   "source": [
    "'''Exclude genetic variants that are not present in at least 99% of samples.'''\n",
    "!plink --bfile $input_filestem --geno 0.01 --make-bed --out $output_filestem"
   ]
  },
  {
   "cell_type": "code",
   "execution_count": null,
   "metadata": {
    "collapsed": true
   },
   "outputs": [],
   "source": []
  },
  {
   "cell_type": "code",
   "execution_count": null,
   "metadata": {
    "collapsed": true
   },
   "outputs": [],
   "source": []
  },
  {
   "cell_type": "code",
   "execution_count": null,
   "metadata": {
    "collapsed": true
   },
   "outputs": [],
   "source": []
  },
  {
   "cell_type": "code",
   "execution_count": null,
   "metadata": {
    "collapsed": true
   },
   "outputs": [],
   "source": []
  },
  {
   "cell_type": "markdown",
   "metadata": {},
   "source": [
    "### 2B: Missing Genotypes\n",
    "The purpose of this step is to identify samples that have too many missing genotypes.  This may indicate a technical failure for the sample because near-complete genotyping is expected.  If this is true, then few or no samples should fail this step.  Any samples that do are excluded from further analysis.\n",
    "Critical note: if a subset of genotypes are missing in all or nearly all samples, this step, which excludes samples that have too many missing genotypes, could exclude all or nearly all samples.  In this case, the variants in the study can be pruned first (see 3A: Callrate Control) to remove variants that are not present in at least 97% of samples, say."
   ]
  },
  {
   "cell_type": "code",
   "execution_count": 16,
   "metadata": {
    "collapsed": false,
    "scrolled": true
   },
   "outputs": [
    {
     "name": "stdout",
     "output_type": "stream",
     "text": [
      "PLINK v1.90b3.45 64-bit (13 Jan 2017)      https://www.cog-genomics.org/plink2\n",
      "(C) 2005-2017 Shaun Purcell, Christopher Chang   GNU General Public License v3\n",
      "Logging to merged_neighbor.log.\n",
      "Options in effect:\n",
      "  --bfile merged_neighbor\n",
      "  --missing\n",
      "  --out merged_neighbor\n",
      "\n",
      "995 MB RAM detected; reserving 497 MB for main workspace.\n",
      "655216 variants loaded from .bim file.\n",
      "5183 people (2299 males, 2752 females, 132 ambiguous) loaded from .fam.\n",
      "Ambiguous sex IDs written to merged_neighbor.nosex .\n",
      "5051 phenotype values loaded from .fam.\n",
      "Using 1 thread.\n",
      "Before main variant filters, 5183 founders and 0 nonfounders present.\n",
      "Calculating allele frequencies... 0%\b\b1%\b\b2%\b\b3%\b\b4%\b\b5%\b\b6%\b\b7%\b\b8%\b\b9%\b\b10%\b\b\b11%\b\b\b12%\b\b\b13%\b\b\b14%\b\b\b15%\b\b\b16%\b\b\b17%\b\b\b18%\b\b\b19%\b\b\b20%\b\b\b21%\b\b\b22%\b\b\b23%\b\b\b24%\b\b\b25%\b\b\b26%\b\b\b27%\b\b\b28%\b\b\b29%\b\b\b30%\b\b\b31%\b\b\b32%\b\b\b33%\b\b\b34%\b\b\b35%\b\b\b36%\b\b\b37%\b\b\b38%\b\b\b39%\b\b\b40%\b\b\b41%\b\b\b42%\b\b\b43%\b\b\b44%\b\b\b45%\b\b\b46%\b\b\b47%\b\b\b48%\b\b\b49%\b\b\b50%\b\b\b51%\b\b\b52%\b\b\b53%\b\b\b54%\b\b\b55%\b\b\b56%\b\b\b57%\b\b\b58%\b\b\b59%\b\b\b60%\b\b\b61%\b\b\b62%\b\b\b63%\b\b\b64%\b\b\b65%\b\b\b66%\b\b\b67%\b\b\b68%\b\b\b69%\b\b\b70%\b\b\b71%\b\b\b72%\b\b\b73%\b\b\b74%\b\b\b75%\b\b\b76%\b\b\b77%\b\b\b78%\b\b\b79%\b\b\b80%\b\b\b81%\b\b\b82%\b\b\b83%\b\b\b84%\b\b\b85%\b\b\b86%\b\b\b87%\b\b\b88%\b\b\b89%\b\b\b90%\b\b\b91%\b\b\b92%\b\b\b93%\b\b\b94%\b\b\b95%\b\b\b96%\b\b\b97%\b\b\b98%\b\b\b99%\b\b\b\b done.\n",
      "Warning: 11950 het. haploid genotypes present (see merged_neighbor.hh ); many\n",
      "commands treat these as missing.\n",
      "Warning: Nonmissing nonmale Y chromosome genotype(s) present; many commands\n",
      "treat these as missing.\n",
      "Total genotyping rate is 0.849377.\n",
      "--missing: Sample missing data report written to merged_neighbor.imiss, and\n",
      "variant-based missing data report written to merged_neighbor.lmiss.\n",
      "PLINK v1.90b3.45 64-bit (13 Jan 2017)      https://www.cog-genomics.org/plink2\n",
      "(C) 2005-2017 Shaun Purcell, Christopher Chang   GNU General Public License v3\n",
      "Logging to merged_neighbor.log.\n",
      "Options in effect:\n",
      "  --bfile merged_neighbor\n",
      "  --het\n",
      "  --out merged_neighbor\n",
      "\n",
      "995 MB RAM detected; reserving 497 MB for main workspace.\n",
      "655216 variants loaded from .bim file.\n",
      "5183 people (2299 males, 2752 females, 132 ambiguous) loaded from .fam.\n",
      "Ambiguous sex IDs written to merged_neighbor.nosex .\n",
      "5051 phenotype values loaded from .fam.\n",
      "Using 1 thread.\n",
      "Before main variant filters, 5183 founders and 0 nonfounders present.\n",
      "Calculating allele frequencies... 0%\b\b1%\b\b2%\b\b3%\b\b4%\b\b5%\b\b6%\b\b7%\b\b8%\b\b9%\b\b10%\b\b\b11%\b\b\b12%\b\b\b13%\b\b\b14%\b\b\b15%\b\b\b16%\b\b\b17%\b\b\b18%\b\b\b19%\b\b\b20%\b\b\b21%\b\b\b22%\b\b\b23%\b\b\b24%\b\b\b25%\b\b\b26%\b\b\b27%\b\b\b28%\b\b\b29%\b\b\b30%\b\b\b31%\b\b\b32%\b\b\b33%\b\b\b34%\b\b\b35%\b\b\b36%\b\b\b37%\b\b\b38%\b\b\b39%\b\b\b40%\b\b\b41%\b\b\b42%\b\b\b43%\b\b\b44%\b\b\b45%\b\b\b46%\b\b\b47%\b\b\b48%\b\b\b49%\b\b\b50%\b\b\b51%\b\b\b52%\b\b\b53%\b\b\b54%\b\b\b55%\b\b\b56%\b\b\b57%\b\b\b58%\b\b\b59%\b\b\b60%\b\b\b61%\b\b\b62%\b\b\b63%\b\b\b64%\b\b\b65%\b\b\b66%\b\b\b67%\b\b\b68%\b\b\b69%\b\b\b70%\b\b\b71%\b\b\b72%\b\b\b73%\b\b\b74%\b\b\b75%\b\b\b76%\b\b\b77%\b\b\b78%\b\b\b79%\b\b\b80%\b\b\b81%\b\b\b82%\b\b\b83%\b\b\b84%\b\b\b85%\b\b\b86%\b\b\b87%\b\b\b88%\b\b\b89%\b\b\b90%\b\b\b91%\b\b\b92%\b\b\b93%\b\b\b94%\b\b\b95%\b\b\b96%\b\b\b97%\b\b\b98%\b\b\b99%\b\b\b\b done.\n",
      "Warning: 11950 het. haploid genotypes present (see merged_neighbor.hh ); many\n",
      "commands treat these as missing.\n",
      "Warning: Nonmissing nonmale Y chromosome genotype(s) present; many commands\n",
      "treat these as missing.\n",
      "Total genotyping rate is 0.849377.\n",
      "655216 variants and 5183 people pass filters and QC.\n",
      "Phenotype data is quantitative.\n",
      "--het: 543257 variants scanned, report written to merged_neighbor.het .\n"
     ]
    }
   ],
   "source": []
  },
  {
   "cell_type": "code",
   "execution_count": 17,
   "metadata": {
    "collapsed": false
   },
   "outputs": [
    {
     "data": {
      "text/html": [
       "<div>\n",
       "<table border=\"1\" class=\"dataframe\">\n",
       "  <thead>\n",
       "    <tr style=\"text-align: right;\">\n",
       "      <th></th>\n",
       "      <th>N_MISS</th>\n",
       "      <th>N_GENO</th>\n",
       "      <th>F_MISS</th>\n",
       "      <th>logF_MISS</th>\n",
       "    </tr>\n",
       "  </thead>\n",
       "  <tbody>\n",
       "    <tr>\n",
       "      <th>count</th>\n",
       "      <td>5183.000000</td>\n",
       "      <td>5183.000000</td>\n",
       "      <td>5183.000000</td>\n",
       "      <td>5183.000000</td>\n",
       "    </tr>\n",
       "    <tr>\n",
       "      <th>mean</th>\n",
       "      <td>98672.371214</td>\n",
       "      <td>655193.186186</td>\n",
       "      <td>0.150601</td>\n",
       "      <td>-0.822191</td>\n",
       "    </tr>\n",
       "    <tr>\n",
       "      <th>std</th>\n",
       "      <td>894.183136</td>\n",
       "      <td>20.370968</td>\n",
       "      <td>0.001365</td>\n",
       "      <td>0.003837</td>\n",
       "    </tr>\n",
       "    <tr>\n",
       "      <th>min</th>\n",
       "      <td>98194.000000</td>\n",
       "      <td>655175.000000</td>\n",
       "      <td>0.149900</td>\n",
       "      <td>-0.824198</td>\n",
       "    </tr>\n",
       "    <tr>\n",
       "      <th>25%</th>\n",
       "      <td>98287.000000</td>\n",
       "      <td>655175.000000</td>\n",
       "      <td>0.150000</td>\n",
       "      <td>-0.823909</td>\n",
       "    </tr>\n",
       "    <tr>\n",
       "      <th>50%</th>\n",
       "      <td>98387.000000</td>\n",
       "      <td>655175.000000</td>\n",
       "      <td>0.150200</td>\n",
       "      <td>-0.823330</td>\n",
       "    </tr>\n",
       "    <tr>\n",
       "      <th>75%</th>\n",
       "      <td>98652.000000</td>\n",
       "      <td>655216.000000</td>\n",
       "      <td>0.150600</td>\n",
       "      <td>-0.822175</td>\n",
       "    </tr>\n",
       "    <tr>\n",
       "      <th>max</th>\n",
       "      <td>115081.000000</td>\n",
       "      <td>655216.000000</td>\n",
       "      <td>0.175600</td>\n",
       "      <td>-0.755475</td>\n",
       "    </tr>\n",
       "  </tbody>\n",
       "</table>\n",
       "</div>"
      ],
      "text/plain": [
       "              N_MISS         N_GENO       F_MISS    logF_MISS\n",
       "count    5183.000000    5183.000000  5183.000000  5183.000000\n",
       "mean    98672.371214  655193.186186     0.150601    -0.822191\n",
       "std       894.183136      20.370968     0.001365     0.003837\n",
       "min     98194.000000  655175.000000     0.149900    -0.824198\n",
       "25%     98287.000000  655175.000000     0.150000    -0.823909\n",
       "50%     98387.000000  655175.000000     0.150200    -0.823330\n",
       "75%     98652.000000  655216.000000     0.150600    -0.822175\n",
       "max    115081.000000  655216.000000     0.175600    -0.755475"
      ]
     },
     "execution_count": 17,
     "metadata": {},
     "output_type": "execute_result"
    }
   ],
   "source": []
  },
  {
   "cell_type": "code",
   "execution_count": 18,
   "metadata": {
    "collapsed": false,
    "scrolled": false
   },
   "outputs": [
    {
     "name": "stdout",
     "output_type": "stream",
     "text": [
      "Summary of log10(missingness): [-0.8242 -0.8239 -0.8233 -0.8222 -0.8222 -0.7555]\n",
      "Summary of mean heterozygosity: [ 0.2349  0.3192  0.3207  0.3207  0.3222  0.3608]\n"
     ]
    },
    {
     "data": {
      "image/png": "[encoded data removed]"
     },
     "metadata": {},
     "output_type": "display_data"
    }
   ],
   "source": []
  },
  {
   "cell_type": "code",
   "execution_count": 32,
   "metadata": {
    "collapsed": false
   },
   "outputs": [
    {
     "name": "stdout",
     "output_type": "stream",
     "text": [
      "PLINK v1.90b4.1 64-bit (30 Mar 2017)           www.cog-genomics.org/plink/1.9/\n",
      "(C) 2005-2017 Shaun Purcell, Christopher Chang   GNU General Public License v3\n",
      "Logging to clean-merged_neighbor.log.\n",
      "Options in effect:\n",
      "  --bfile clean-merged_neighbor\n",
      "  --missing\n",
      "  --out clean-merged_neighbor\n",
      "\n",
      "64329 MB RAM detected; reserving 32164 MB for main workspace.\n",
      "547812 variants loaded from .bim file.\n",
      "5183 people (2299 males, 2752 females, 132 ambiguous) loaded from .fam.\n",
      "Ambiguous sex IDs written to clean-merged_neighbor.nosex .\n",
      "5051 phenotype values loaded from .fam.\n",
      "Using 1 thread (no multithreaded calculations invoked).\n",
      "Before main variant filters, 5183 founders and 0 nonfounders present.\n",
      "Calculating allele frequencies... 0%\b\b1%\b\b2%\b\b3%\b\b4%\b\b5%\b\b6%\b\b7%\b\b8%\b\b9%\b\b10%\b\b\b11%\b\b\b12%\b\b\b13%\b\b\b14%\b\b\b15%\b\b\b16%\b\b\b17%\b\b\b18%\b\b\b19%\b\b\b20%\b\b\b21%\b\b\b22%\b\b\b23%\b\b\b24%\b\b\b25%\b\b\b26%\b\b\b27%\b\b\b28%\b\b\b29%\b\b\b30%\b\b\b31%\b\b\b32%\b\b\b33%\b\b\b34%\b\b\b35%\b\b\b36%\b\b\b37%\b\b\b38%\b\b\b39%\b\b\b40%\b\b\b41%\b\b\b42%\b\b\b43%\b\b\b44%\b\b\b45%\b\b\b46%\b\b\b47%\b\b\b48%\b\b\b49%\b\b\b50%\b\b\b51%\b\b\b52%\b\b\b53%\b\b\b54%\b\b\b55%\b\b\b56%\b\b\b57%\b\b\b58%\b\b\b59%\b\b\b60%\b\b\b61%\b\b\b62%\b\b\b63%\b\b\b64%\b\b\b65%\b\b\b66%\b\b\b67%\b\b\b68%\b\b\b69%\b\b\b70%\b\b\b71%\b\b\b72%\b\b\b73%\b\b\b74%\b\b\b75%\b\b\b76%\b\b\b77%\b\b\b78%\b\b\b79%\b\b\b80%\b\b\b81%\b\b\b82%\b\b\b83%\b\b\b84%\b\b\b85%\b\b\b86%\b\b\b87%\b\b\b88%\b\b\b89%\b\b\b90%\b\b\b91%\b\b\b92%\b\b\b93%\b\b\b94%\b\b\b95%\b\b\b96%\b\b\b97%\b\b\b98%\b\b\b99%\b\b\b\b done.\n",
      "Warning: 11574 het. haploid genotypes present (see clean-merged_neighbor.hh );\n",
      "many commands treat these as missing.\n",
      "Warning: Nonmissing nonmale Y chromosome genotype(s) present; many commands\n",
      "treat these as missing.\n",
      "Total genotyping rate is 0.999488.\n",
      "--missing: Sample missing data report written to clean-merged_neighbor.imiss,\n",
      "and variant-based missing data report written to clean-merged_neighbor.lmiss.\n"
     ]
    }
   ],
   "source": [
    "'''Exclude individuals with less than 99% callrate (1% or more of genetic variants are missing in that sample).'''\n",
    "#First, generate missingness reports:\n",
    "!plink --bfile $output_filestem --missing --out $output_filestem\n",
    "imiss_file = output_filestem + '.imiss'\n",
    "#Clean up the whitespace:\n",
    "!perl -i.bak -lpe 's/^\\s+//; s/\\s+/\\t/g;' $imiss_file"
   ]
  },
  {
   "cell_type": "code",
   "execution_count": 20,
   "metadata": {
    "collapsed": false
   },
   "outputs": [
    {
     "name": "stdout",
     "output_type": "stream",
     "text": [
      "Number of individuals who failed heterozygosity QC:['103']\n"
     ]
    }
   ],
   "source": []
  },
  {
   "cell_type": "code",
   "execution_count": 21,
   "metadata": {
    "collapsed": false,
    "scrolled": true
   },
   "outputs": [
    {
     "name": "stdout",
     "output_type": "stream",
     "text": [
      "PLINK v1.90b3.45 64-bit (13 Jan 2017)      https://www.cog-genomics.org/plink2\n",
      "(C) 2005-2017 Shaun Purcell, Christopher Chang   GNU General Public License v3\n",
      "Logging to clean-merged_neighbor.log.\n",
      "Options in effect:\n",
      "  --bfile merged_neighbor\n",
      "  --geno 0.01\n",
      "  --make-bed\n",
      "  --out clean-merged_neighbor\n",
      "\n",
      "995 MB RAM detected; reserving 497 MB for main workspace.\n",
      "655216 variants loaded from .bim file.\n",
      "5183 people (2299 males, 2752 females, 132 ambiguous) loaded from .fam.\n",
      "Ambiguous sex IDs written to clean-merged_neighbor.nosex .\n",
      "5051 phenotype values loaded from .fam.\n",
      "Using 1 thread.\n",
      "Before main variant filters, 5183 founders and 0 nonfounders present.\n",
      "Calculating allele frequencies... 0%\b\b1%\b\b2%\b\b3%\b\b4%\b\b5%\b\b6%\b\b7%\b\b8%\b\b9%\b\b10%\b\b\b11%\b\b\b12%\b\b\b13%\b\b\b14%\b\b\b15%\b\b\b16%\b\b\b17%\b\b\b18%\b\b\b19%\b\b\b20%\b\b\b21%\b\b\b22%\b\b\b23%\b\b\b24%\b\b\b25%\b\b\b26%\b\b\b27%\b\b\b28%\b\b\b29%\b\b\b30%\b\b\b31%\b\b\b32%\b\b\b33%\b\b\b34%\b\b\b35%\b\b\b36%\b\b\b37%\b\b\b38%\b\b\b39%\b\b\b40%\b\b\b41%\b\b\b42%\b\b\b43%\b\b\b44%\b\b\b45%\b\b\b46%\b\b\b47%\b\b\b48%\b\b\b49%\b\b\b50%\b\b\b51%\b\b\b52%\b\b\b53%\b\b\b54%\b\b\b55%\b\b\b56%\b\b\b57%\b\b\b58%\b\b\b59%\b\b\b60%\b\b\b61%\b\b\b62%\b\b\b63%\b\b\b64%\b\b\b65%\b\b\b66%\b\b\b67%\b\b\b68%\b\b\b69%\b\b\b70%\b\b\b71%\b\b\b72%\b\b\b73%\b\b\b74%\b\b\b75%\b\b\b76%\b\b\b77%\b\b\b78%\b\b\b79%\b\b\b80%\b\b\b81%\b\b\b82%\b\b\b83%\b\b\b84%\b\b\b85%\b\b\b86%\b\b\b87%\b\b\b88%\b\b\b89%\b\b\b90%\b\b\b91%\b\b\b92%\b\b\b93%\b\b\b94%\b\b\b95%\b\b\b96%\b\b\b97%\b\b\b98%\b\b\b99%\b\b\b\b done.\n",
      "Warning: 11950 het. haploid genotypes present (see clean-merged_neighbor.hh );\n",
      "many commands treat these as missing.\n",
      "Warning: Nonmissing nonmale Y chromosome genotype(s) present; many commands\n",
      "treat these as missing.\n",
      "Total genotyping rate is 0.849377.\n",
      "107404 variants removed due to missing genotype data (--geno).\n",
      "547812 variants and 5183 people pass filters and QC.\n",
      "Phenotype data is quantitative.\n",
      "--make-bed to clean-merged_neighbor.bed + clean-merged_neighbor.bim +\n",
      "clean-merged_neighbor.fam ... 0%\b\b1%\b\b2%\b\b3%\b\b4%\b\b5%\b\b6%\b\b7%\b\b8%\b\b9%\b\b10%\b\b\b11%\b\b\b12%\b\b\b13%\b\b\b14%\b\b\b15%\b\b\b16%\b\b\b17%\b\b\b18%\b\b\b19%\b\b\b20%\b\b\b21%\b\b\b22%\b\b\b23%\b\b\b24%\b\b\b25%\b\b\b26%\b\b\b27%\b\b\b28%\b\b\b29%\b\b\b30%\b\b\b31%\b\b\b32%\b\b\b33%\b\b\b34%\b\b\b35%\b\b\b36%\b\b\b37%\b\b\b38%\b\b\b39%\b\b\b40%\b\b\b41%\b\b\b42%\b\b\b43%\b\b\b44%\b\b\b45%\b\b\b46%\b\b\b47%\b\b\b48%\b\b\b49%\b\b\b50%\b\b\b51%\b\b\b52%\b\b\b53%\b\b\b54%\b\b\b55%\b\b\b56%\b\b\b57%\b\b\b58%\b\b\b59%\b\b\b60%\b\b\b61%\b\b\b62%\b\b\b63%\b\b\b64%\b\b\b65%\b\b\b66%\b\b\b67%\b\b\b68%\b\b\b69%\b\b\b70%\b\b\b71%\b\b\b72%\b\b\b73%\b\b\b74%\b\b\b75%\b\b\b76%\b\b\b77%\b\b\b78%\b\b\b79%\b\b\b80%\b\b\b81%\b\b\b82%\b\b\b83%\b\b\b84%\b\b\b85%\b\b\b86%\b\b\b87%\b\b\b88%\b\b\b89%\b\b\b90%\b\b\b91%\b\b\b92%\b\b\b93%\b\b\b94%\b\b\b95%\b\b\b96%\b\b\b97%\b\b\b98%\b\b\b99%\b\b\bdone.\n"
     ]
    }
   ],
   "source": []
  },
  {
   "cell_type": "code",
   "execution_count": 22,
   "metadata": {
    "collapsed": false,
    "scrolled": true
   },
   "outputs": [
    {
     "name": "stdout",
     "output_type": "stream",
     "text": [
      "PLINK v1.90b3.45 64-bit (13 Jan 2017)      https://www.cog-genomics.org/plink2\n",
      "(C) 2005-2017 Shaun Purcell, Christopher Chang   GNU General Public License v3\n",
      "Logging to clean-merged_neighbor.log.\n",
      "Options in effect:\n",
      "  --bfile clean-merged_neighbor\n",
      "  --missing\n",
      "  --out clean-merged_neighbor\n",
      "\n",
      "995 MB RAM detected; reserving 497 MB for main workspace.\n",
      "547812 variants loaded from .bim file.\n",
      "5183 people (2299 males, 2752 females, 132 ambiguous) loaded from .fam.\n",
      "Ambiguous sex IDs written to clean-merged_neighbor.nosex .\n",
      "5051 phenotype values loaded from .fam.\n",
      "Using 1 thread.\n",
      "Before main variant filters, 5183 founders and 0 nonfounders present.\n",
      "Calculating allele frequencies... 0%\b\b1%\b\b2%\b\b3%\b\b4%\b\b5%\b\b6%\b\b7%\b\b8%\b\b9%\b\b10%\b\b\b11%\b\b\b12%\b\b\b13%\b\b\b14%\b\b\b15%\b\b\b16%\b\b\b17%\b\b\b18%\b\b\b19%\b\b\b20%\b\b\b21%\b\b\b22%\b\b\b23%\b\b\b24%\b\b\b25%\b\b\b26%\b\b\b27%\b\b\b28%\b\b\b29%\b\b\b30%\b\b\b31%\b\b\b32%\b\b\b33%\b\b\b34%\b\b\b35%\b\b\b36%\b\b\b37%\b\b\b38%\b\b\b39%\b\b\b40%\b\b\b41%\b\b\b42%\b\b\b43%\b\b\b44%\b\b\b45%\b\b\b46%\b\b\b47%\b\b\b48%\b\b\b49%\b\b\b50%\b\b\b51%\b\b\b52%\b\b\b53%\b\b\b54%\b\b\b55%\b\b\b56%\b\b\b57%\b\b\b58%\b\b\b59%\b\b\b60%\b\b\b61%\b\b\b62%\b\b\b63%\b\b\b64%\b\b\b65%\b\b\b66%\b\b\b67%\b\b\b68%\b\b\b69%\b\b\b70%\b\b\b71%\b\b\b72%\b\b\b73%\b\b\b74%\b\b\b75%\b\b\b76%\b\b\b77%\b\b\b78%\b\b\b79%\b\b\b80%\b\b\b81%\b\b\b82%\b\b\b83%\b\b\b84%\b\b\b85%\b\b\b86%\b\b\b87%\b\b\b88%\b\b\b89%\b\b\b90%\b\b\b91%\b\b\b92%\b\b\b93%\b\b\b94%\b\b\b95%\b\b\b96%\b\b\b97%\b\b\b98%\b\b\b99%\b\b\b\b done.\n",
      "Warning: 11574 het. haploid genotypes present (see clean-merged_neighbor.hh );\n",
      "many commands treat these as missing.\n",
      "Warning: Nonmissing nonmale Y chromosome genotype(s) present; many commands\n",
      "treat these as missing.\n",
      "Total genotyping rate is 0.999488.\n",
      "--missing: Sample missing data report written to clean-merged_neighbor.imiss,\n",
      "and variant-based missing data report written to clean-merged_neighbor.lmiss.\n"
     ]
    }
   ],
   "source": []
  },
  {
   "cell_type": "code",
   "execution_count": 23,
   "metadata": {
    "collapsed": false
   },
   "outputs": [
    {
     "data": {
      "text/plain": [
       "'data.frame':\t5183 obs. of  6 variables:\n",
       " $ FID       : Factor w/ 5073 levels \"ME8001\",\"ME8002\",..: 1 2 3 4 5 6 7 8 9 10 ...\n",
       " $ IID       : Factor w/ 5183 levels \"DU9001\",\"DU9002\",..: 51 52 53 54 55 56 57 58 59 60 ...\n",
       " $ MISS_PHENO: Factor w/ 2 levels \"N\",\"Y\": 2 2 2 2 2 2 2 2 2 2 ...\n",
       " $ N_MISS    : int  46 37 34 27 27 77 634 32 27 27 ...\n",
       " $ N_GENO    : int  547804 547804 547804 547804 547804 547804 547804 547804 547804 547804 ...\n",
       " $ F_MISS    : num  8.40e-05 6.75e-05 6.21e-05 4.93e-05 4.93e-05 ...\n"
      ]
     },
     "metadata": {},
     "output_type": "display_data"
    },
    {
     "name": "stdout",
     "output_type": "stream",
     "text": [
      "Number of samples that failed callrate QC: ['20']\n"
     ]
    }
   ],
   "source": [
    "'''Isolate the FID:IID pairs for individuals that failed callrate QC.'''\n",
    "%Rpush imiss_file\n",
    "%R imiss <- read.table(imiss_file, header=T)\n",
    "%R str(imiss)\n",
    "%R write.table(imiss[which(imiss$F_MISS >= 0.01),c(1,2)], file='fail-imiss-qc.txt', quote=F, row.names=F, sep=\"\\t\")\n",
    "imiss_fail_count = !cat fail-imiss-qc.txt | wc -l\n",
    "print \"Number of samples that failed callrate QC: \" + str(imiss_fail_count)"
   ]
  },
  {
   "cell_type": "code",
   "execution_count": 24,
   "metadata": {
    "collapsed": false,
    "scrolled": true
   },
   "outputs": [
    {
     "name": "stdout",
     "output_type": "stream",
     "text": [
      "PLINK v1.90b3.45 64-bit (13 Jan 2017)      https://www.cog-genomics.org/plink2\n",
      "(C) 2005-2017 Shaun Purcell, Christopher Chang   GNU General Public License v3\n",
      "Logging to clean-merged_neighbor.log.\n",
      "Options in effect:\n",
      "  --bfile clean-merged_neighbor\n",
      "  --make-bed\n",
      "  --out clean-merged_neighbor\n",
      "  --remove fail-imiss-qc.txt\n",
      "\n",
      "995 MB RAM detected; reserving 497 MB for main workspace.\n",
      "Note: --make-bed input and output filenames match.  Appending '~' to input\n",
      "filenames.\n",
      "547812 variants loaded from .bim file.\n",
      "5183 people (2299 males, 2752 females, 132 ambiguous) loaded from .fam.\n",
      "Ambiguous sex IDs written to clean-merged_neighbor.nosex .\n",
      "5051 phenotype values loaded from .fam.\n",
      "--remove: 5164 people remaining.\n",
      "Using 1 thread.\n",
      "Before main variant filters, 5164 founders and 0 nonfounders present.\n",
      "Calculating allele frequencies... 0%\b\b1%\b\b2%\b\b3%\b\b4%\b\b5%\b\b6%\b\b7%\b\b8%\b\b9%\b\b10%\b\b\b11%\b\b\b12%\b\b\b13%\b\b\b14%\b\b\b15%\b\b\b16%\b\b\b17%\b\b\b18%\b\b\b19%\b\b\b20%\b\b\b21%\b\b\b22%\b\b\b23%\b\b\b24%\b\b\b25%\b\b\b26%\b\b\b27%\b\b\b28%\b\b\b29%\b\b\b30%\b\b\b31%\b\b\b32%\b\b\b33%\b\b\b34%\b\b\b35%\b\b\b36%\b\b\b37%\b\b\b38%\b\b\b39%\b\b\b40%\b\b\b41%\b\b\b42%\b\b\b43%\b\b\b44%\b\b\b45%\b\b\b46%\b\b\b47%\b\b\b48%\b\b\b49%\b\b\b50%\b\b\b51%\b\b\b52%\b\b\b53%\b\b\b54%\b\b\b55%\b\b\b56%\b\b\b57%\b\b\b58%\b\b\b59%\b\b\b60%\b\b\b61%\b\b\b62%\b\b\b63%\b\b\b64%\b\b\b65%\b\b\b66%\b\b\b67%\b\b\b68%\b\b\b69%\b\b\b70%\b\b\b71%\b\b\b72%\b\b\b73%\b\b\b74%\b\b\b75%\b\b\b76%\b\b\b77%\b\b\b78%\b\b\b79%\b\b\b80%\b\b\b81%\b\b\b82%\b\b\b83%\b\b\b84%\b\b\b85%\b\b\b86%\b\b\b87%\b\b\b88%\b\b\b89%\b\b\b90%\b\b\b91%\b\b\b92%\b\b\b93%\b\b\b94%\b\b\b95%\b\b\b96%\b\b\b97%\b\b\b98%\b\b\b99%\b\b\b\b done.\n",
      "Warning: 11469 het. haploid genotypes present (see clean-merged_neighbor.hh );\n",
      "many commands treat these as missing.\n",
      "Warning: Nonmissing nonmale Y chromosome genotype(s) present; many commands\n",
      "treat these as missing.\n",
      "Total genotyping rate in remaining samples is 0.999535.\n",
      "547812 variants and 5164 people pass filters and QC.\n",
      "Phenotype data is quantitative.\n",
      "--make-bed to clean-merged_neighbor.bed + clean-merged_neighbor.bim +\n",
      "clean-merged_neighbor.fam ... 0%\b\b1%\b\b2%\b\b3%\b\b4%\b\b5%\b\b6%\b\b7%\b\b8%\b\b9%\b\b10%\b\b\b11%\b\b\b12%\b\b\b13%\b\b\b14%\b\b\b15%\b\b\b16%\b\b\b17%\b\b\b18%\b\b\b19%\b\b\b20%\b\b\b21%\b\b\b22%\b\b\b23%\b\b\b24%\b\b\b25%\b\b\b26%\b\b\b27%\b\b\b28%\b\b\b29%\b\b\b30%\b\b\b31%\b\b\b32%\b\b\b33%\b\b\b34%\b\b\b35%\b\b\b36%\b\b\b37%\b\b\b38%\b\b\b39%\b\b\b40%\b\b\b41%\b\b\b42%\b\b\b43%\b\b\b44%\b\b\b45%\b\b\b46%\b\b\b47%\b\b\b48%\b\b\b49%\b\b\b50%\b\b\b51%\b\b\b52%\b\b\b53%\b\b\b54%\b\b\b55%\b\b\b56%\b\b\b57%\b\b\b58%\b\b\b59%\b\b\b60%\b\b\b61%\b\b\b62%\b\b\b63%\b\b\b64%\b\b\b65%\b\b\b66%\b\b\b67%\b\b\b68%\b\b\b69%\b\b\b70%\b\b\b71%\b\b\b72%\b\b\b73%\b\b\b74%\b\b\b75%\b\b\b76%\b\b\b77%\b\b\b78%\b\b\b79%\b\b\b80%\b\b\b81%\b\b\b82%\b\b\b83%\b\b\b84%\b\b\b85%\b\b\b86%\b\b\b87%\b\b\b88%\b\b\b89%\b\b\b90%\b\b\b91%\b\b\b92%\b\b\b93%\b\b\b94%\b\b\b95%\b\b\b96%\b\b\b97%\b\b\b98%\b\b\b99%\b\b\bdone.\n"
     ]
    }
   ],
   "source": [
    "'''Use plink to exclude those samples that failed callrate QC.'''\n",
    "!plink --bfile $output_filestem --remove fail-imiss-qc.txt --make-bed --out $output_filestem"
   ]
  },
  {
   "cell_type": "code",
   "execution_count": 25,
   "metadata": {
    "collapsed": false,
    "scrolled": true
   },
   "outputs": [
    {
     "name": "stdout",
     "output_type": "stream",
     "text": [
      "PLINK v1.90b3.45 64-bit (13 Jan 2017)      https://www.cog-genomics.org/plink2\n",
      "(C) 2005-2017 Shaun Purcell, Christopher Chang   GNU General Public License v3\n",
      "Logging to clean-merged_neighbor.log.\n",
      "Options in effect:\n",
      "  --bfile clean-merged_neighbor\n",
      "  --maf 0.01\n",
      "  --make-bed\n",
      "  --out clean-merged_neighbor\n",
      "\n",
      "995 MB RAM detected; reserving 497 MB for main workspace.\n",
      "Note: --make-bed input and output filenames match.  Appending '~' to input\n",
      "filenames.\n",
      "547812 variants loaded from .bim file.\n",
      "5164 people (2291 males, 2742 females, 131 ambiguous) loaded from .fam.\n",
      "Ambiguous sex IDs written to clean-merged_neighbor.nosex .\n",
      "5033 phenotype values loaded from .fam.\n",
      "Using 1 thread.\n",
      "Before main variant filters, 5164 founders and 0 nonfounders present.\n",
      "Calculating allele frequencies... 0%\b\b1%\b\b2%\b\b3%\b\b4%\b\b5%\b\b6%\b\b7%\b\b8%\b\b9%\b\b10%\b\b\b11%\b\b\b12%\b\b\b13%\b\b\b14%\b\b\b15%\b\b\b16%\b\b\b17%\b\b\b18%\b\b\b19%\b\b\b20%\b\b\b21%\b\b\b22%\b\b\b23%\b\b\b24%\b\b\b25%\b\b\b26%\b\b\b27%\b\b\b28%\b\b\b29%\b\b\b30%\b\b\b31%\b\b\b32%\b\b\b33%\b\b\b34%\b\b\b35%\b\b\b36%\b\b\b37%\b\b\b38%\b\b\b39%\b\b\b40%\b\b\b41%\b\b\b42%\b\b\b43%\b\b\b44%\b\b\b45%\b\b\b46%\b\b\b47%\b\b\b48%\b\b\b49%\b\b\b50%\b\b\b51%\b\b\b52%\b\b\b53%\b\b\b54%\b\b\b55%\b\b\b56%\b\b\b57%\b\b\b58%\b\b\b59%\b\b\b60%\b\b\b61%\b\b\b62%\b\b\b63%\b\b\b64%\b\b\b65%\b\b\b66%\b\b\b67%\b\b\b68%\b\b\b69%\b\b\b70%\b\b\b71%\b\b\b72%\b\b\b73%\b\b\b74%\b\b\b75%\b\b\b76%\b\b\b77%\b\b\b78%\b\b\b79%\b\b\b80%\b\b\b81%\b\b\b82%\b\b\b83%\b\b\b84%\b\b\b85%\b\b\b86%\b\b\b87%\b\b\b88%\b\b\b89%\b\b\b90%\b\b\b91%\b\b\b92%\b\b\b93%\b\b\b94%\b\b\b95%\b\b\b96%\b\b\b97%\b\b\b98%\b\b\b99%\b\b\b\b done.\n",
      "Warning: 11469 het. haploid genotypes present (see clean-merged_neighbor.hh );\n",
      "many commands treat these as missing.\n",
      "Warning: Nonmissing nonmale Y chromosome genotype(s) present; many commands\n",
      "treat these as missing.\n",
      "Total genotyping rate is 0.999535.\n",
      "19345 variants removed due to minor allele threshold(s)\n",
      "(--maf/--max-maf/--mac/--max-mac).\n",
      "528467 variants and 5164 people pass filters and QC.\n",
      "Phenotype data is quantitative.\n",
      "--make-bed to clean-merged_neighbor.bed + clean-merged_neighbor.bim +\n",
      "clean-merged_neighbor.fam ... 0%\b\b1%\b\b2%\b\b3%\b\b4%\b\b5%\b\b6%\b\b7%\b\b8%\b\b9%\b\b10%\b\b\b11%\b\b\b12%\b\b\b13%\b\b\b14%\b\b\b15%\b\b\b16%\b\b\b17%\b\b\b18%\b\b\b19%\b\b\b20%\b\b\b21%\b\b\b22%\b\b\b23%\b\b\b24%\b\b\b25%\b\b\b26%\b\b\b27%\b\b\b28%\b\b\b29%\b\b\b30%\b\b\b31%\b\b\b32%\b\b\b33%\b\b\b34%\b\b\b35%\b\b\b36%\b\b\b37%\b\b\b38%\b\b\b39%\b\b\b40%\b\b\b41%\b\b\b42%\b\b\b43%\b\b\b44%\b\b\b45%\b\b\b46%\b\b\b47%\b\b\b48%\b\b\b49%\b\b\b50%\b\b\b51%\b\b\b52%\b\b\b53%\b\b\b54%\b\b\b55%\b\b\b56%\b\b\b57%\b\b\b58%\b\b\b59%\b\b\b60%\b\b\b61%\b\b\b62%\b\b\b63%\b\b\b64%\b\b\b65%\b\b\b66%\b\b\b67%\b\b\b68%\b\b\b69%\b\b\b70%\b\b\b71%\b\b\b72%\b\b\b73%\b\b\b74%\b\b\b75%\b\b\b76%\b\b\b77%\b\b\b78%\b\b\b79%\b\b\b80%\b\b\b81%\b\b\b82%\b\b\b83%\b\b\b84%\b\b\b85%\b\b\b86%\b\b\b87%\b\b\b88%\b\b\b89%\b\b\b90%\b\b\b91%\b\b\b92%\b\b\b93%\b\b\b94%\b\b\b95%\b\b\b96%\b\b\b97%\b\b\b98%\b\b\b99%\b\b\bdone.\n"
     ]
    }
   ],
   "source": [
    "'''Exclude rare variants: genetic markers with less than 1% minor allele frequency.'''\n",
    "!plink --bfile $output_filestem --maf 0.01 --make-bed --out $output_filestem"
   ]
  },
  {
   "cell_type": "code",
   "execution_count": 26,
   "metadata": {
    "collapsed": false,
    "scrolled": true
   },
   "outputs": [
    {
     "name": "stdout",
     "output_type": "stream",
     "text": [
      "PLINK v1.90b3.45 64-bit (13 Jan 2017)      https://www.cog-genomics.org/plink2\n",
      "(C) 2005-2017 Shaun Purcell, Christopher Chang   GNU General Public License v3\n",
      "Logging to clean-merged_neighbor.log.\n",
      "Options in effect:\n",
      "  --bfile clean-merged_neighbor\n",
      "  --indep-pairwise 50 5 0.2\n",
      "  --out clean-merged_neighbor\n",
      "\n",
      "995 MB RAM detected; reserving 497 MB for main workspace.\n",
      "528467 variants loaded from .bim file.\n",
      "5164 people (2291 males, 2742 females, 131 ambiguous) loaded from .fam.\n",
      "Ambiguous sex IDs written to clean-merged_neighbor.nosex .\n",
      "5033 phenotype values loaded from .fam.\n",
      "Using 1 thread.\n",
      "Before main variant filters, 5164 founders and 0 nonfounders present.\n",
      "Calculating allele frequencies... 0%\b\b1%\b\b2%\b\b3%\b\b4%\b\b5%\b\b6%\b\b7%\b\b8%\b\b9%\b\b10%\b\b\b11%\b\b\b12%\b\b\b13%\b\b\b14%\b\b\b15%\b\b\b16%\b\b\b17%\b\b\b18%\b\b\b19%\b\b\b20%\b\b\b21%\b\b\b22%\b\b\b23%\b\b\b24%\b\b\b25%\b\b\b26%\b\b\b27%\b\b\b28%\b\b\b29%\b\b\b30%\b\b\b31%\b\b\b32%\b\b\b33%\b\b\b34%\b\b\b35%\b\b\b36%\b\b\b37%\b\b\b38%\b\b\b39%\b\b\b40%\b\b\b41%\b\b\b42%\b\b\b43%\b\b\b44%\b\b\b45%\b\b\b46%\b\b\b47%\b\b\b48%\b\b\b49%\b\b\b50%\b\b\b51%\b\b\b52%\b\b\b53%\b\b\b54%\b\b\b55%\b\b\b56%\b\b\b57%\b\b\b58%\b\b\b59%\b\b\b60%\b\b\b61%\b\b\b62%\b\b\b63%\b\b\b64%\b\b\b65%\b\b\b66%\b\b\b67%\b\b\b68%\b\b\b69%\b\b\b70%\b\b\b71%\b\b\b72%\b\b\b73%\b\b\b74%\b\b\b75%\b\b\b76%\b\b\b77%\b\b\b78%\b\b\b79%\b\b\b80%\b\b\b81%\b\b\b82%\b\b\b83%\b\b\b84%\b\b\b85%\b\b\b86%\b\b\b87%\b\b\b88%\b\b\b89%\b\b\b90%\b\b\b91%\b\b\b92%\b\b\b93%\b\b\b94%\b\b\b95%\b\b\b96%\b\b\b97%\b\b\b98%\b\b\b99%\b\b\b\b done.\n",
      "Warning: 11452 het. haploid genotypes present (see clean-merged_neighbor.hh );\n",
      "many commands treat these as missing.\n",
      "Warning: Nonmissing nonmale Y chromosome genotype(s) present; many commands\n",
      "treat these as missing.\n",
      "Total genotyping rate is 0.999529.\n",
      "528467 variants and 5164 people pass filters and QC.\n",
      "Phenotype data is quantitative.\n",
      "Pruned 31484 variants from chromosome 1, leaving 8830.\n",
      "Pruned 34454 variants from chromosome 2, leaving 8428.\n",
      "Pruned 28405 variants from chromosome 3, leaving 7255.\n",
      "Pruned 24781 variants from chromosome 4, leaving 6599.\n",
      "Pruned 25657 variants from chromosome 5, leaving 6630.\n",
      "Pruned 27776 variants from chromosome 6, leaving 6779.\n",
      "Pruned 22693 variants from chromosome 7, leaving 5918.\n",
      "Pruned 23939 variants from chromosome 8, leaving 5526.\n",
      "Pruned 20166 variants from chromosome 9, leaving 5139.\n",
      "Pruned 21924 variants from chromosome 10, leaving 5749.\n",
      "Pruned 20411 variants from chromosome 11, leaving 5244.\n",
      "Pruned 20101 variants from chromosome 12, leaving 5569.\n",
      "Pruned 15707 variants from chromosome 13, leaving 4149.\n",
      "Pruned 13646 variants from chromosome 14, leaving 3758.\n",
      "Pruned 12159 variants from chromosome 15, leaving 3527.\n",
      "Pruned 12140 variants from chromosome 16, leaving 3822.\n",
      "Pruned 10174 variants from chromosome 17, leaving 3598.\n",
      "Pruned 12144 variants from chromosome 18, leaving 3605.\n",
      "Pruned 6319 variants from chromosome 19, leaving 2740.\n",
      "Pruned 10164 variants from chromosome 20, leaving 3237.\n",
      "Pruned 6006 variants from chromosome 21, leaving 1808.\n",
      "Pruned 5868 variants from chromosome 22, leaving 1977.\n",
      "Pruned 9560 variants from chromosome 23, leaving 2819.\n",
      "Pruned 2 variants from chromosome 24, leaving 2.\n",
      "Pruned 0 variants from chromosome 25, leaving 3.\n",
      "Pruned 43 variants from chromosome 26, leaving 33.\n",
      "Pruning complete.  415723 of 528467 variants removed.\n",
      "Marker lists written to clean-merged_neighbor.prune.in and\n",
      "clean-merged_neighbor.prune.out .\n"
     ]
    }
   ],
   "source": [
    "'''Exclude related samples.'''\n",
    "'''Generate LD-pruned variants first.'''\n",
    "!plink --bfile $output_filestem --indep-pairwise 50 5 0.2 --out $output_filestem"
   ]
  },
  {
   "cell_type": "code",
   "execution_count": 27,
   "metadata": {
    "collapsed": false
   },
   "outputs": [
    {
     "name": "stdout",
     "output_type": "stream",
     "text": [
      "Unlinked (LD-pruned) genetic variant count: ['112744']\n",
      "PLINK v1.90b3.45 64-bit (13 Jan 2017)      https://www.cog-genomics.org/plink2\n",
      "(C) 2005-2017 Shaun Purcell, Christopher Chang   GNU General Public License v3\n",
      "Logging to clean-merged_neighbor.log.\n",
      "Options in effect:\n",
      "  --bfile clean-merged_neighbor\n",
      "  --extract clean-merged_neighbor.prune.in\n",
      "  --genome\n",
      "  --out clean-merged_neighbor\n",
      "\n",
      "995 MB RAM detected; reserving 497 MB for main workspace.\n",
      "528467 variants loaded from .bim file.\n",
      "5164 people (2291 males, 2742 females, 131 ambiguous) loaded from .fam.\n",
      "Ambiguous sex IDs written to clean-merged_neighbor.nosex .\n",
      "5033 phenotype values loaded from .fam.\n",
      "--extract: 112744 variants remaining.\n",
      "Using 1 thread.\n",
      "Before main variant filters, 5164 founders and 0 nonfounders present.\n",
      "Calculating allele frequencies... 0%\b\b1%\b\b2%\b\b3%\b\b4%\b\b5%\b\b6%\b\b7%\b\b8%\b\b9%\b\b10%\b\b\b11%\b\b\b12%\b\b\b13%\b\b\b14%\b\b\b15%\b\b\b16%\b\b\b17%\b\b\b18%\b\b\b19%\b\b\b20%\b\b\b21%\b\b\b22%\b\b\b23%\b\b\b24%\b\b\b25%\b\b\b26%\b\b\b27%\b\b\b28%\b\b\b29%\b\b\b30%\b\b\b31%\b\b\b32%\b\b\b33%\b\b\b34%\b\b\b35%\b\b\b36%\b\b\b37%\b\b\b38%\b\b\b39%\b\b\b40%\b\b\b41%\b\b\b42%\b\b\b43%\b\b\b44%\b\b\b45%\b\b\b46%\b\b\b47%\b\b\b48%\b\b\b49%\b\b\b50%\b\b\b51%\b\b\b52%\b\b\b53%\b\b\b54%\b\b\b55%\b\b\b56%\b\b\b57%\b\b\b58%\b\b\b59%\b\b\b60%\b\b\b61%\b\b\b62%\b\b\b63%\b\b\b64%\b\b\b65%\b\b\b66%\b\b\b67%\b\b\b68%\b\b\b69%\b\b\b70%\b\b\b71%\b\b\b72%\b\b\b73%\b\b\b74%\b\b\b75%\b\b\b76%\b\b\b77%\b\b\b78%\b\b\b79%\b\b\b80%\b\b\b81%\b\b\b82%\b\b\b83%\b\b\b84%\b\b\b85%\b\b\b86%\b\b\b87%\b\b\b88%\b\b\b89%\b\b\b90%\b\b\b91%\b\b\b92%\b\b\b93%\b\b\b94%\b\b\b95%\b\b\b96%\b\b\b97%\b\b\b98%\b\b\b99%\b\b\b\b done.\n",
      "Warning: 2513 het. haploid genotypes present (see clean-merged_neighbor.hh );\n",
      "many commands treat these as missing.\n",
      "Warning: Nonmissing nonmale Y chromosome genotype(s) present; many commands\n",
      "treat these as missing.\n",
      "Total genotyping rate is 0.999529.\n",
      "112744 variants and 5164 people pass filters and QC.\n",
      "Phenotype data is quantitative.\n",
      "Excluding 2854 variants on non-autosomes from IBD calculation.\n",
      "IBD calculations complete.  \n",
      "Finished writing clean-merged_neighbor.genome .\n"
     ]
    }
   ],
   "source": [
    "'''If the above output pruned too few or too many SNPs, adjust the linkage R^2 value \n",
    "Increase R^2 to retain more SNPs, decrease to prune more.\n",
    "The goal is to end up with about 100k SNPs for a GWAS study (>= 500k SNPs genome-wide).\n",
    "Then proceed with identification of related samples.'''\n",
    "prune_in_file = output_filestem + '.prune.in'\n",
    "unlinked_variant_count = !cat $prune_in_file | wc -l\n",
    "print \"Unlinked (LD-pruned) genetic variant count: \" + str(unlinked_variant_count)\n",
    "!plink --bfile $output_filestem --extract $prune_in_file --genome --out $output_filestem\n",
    "#That command should generate a *.genome file."
   ]
  },
  {
   "cell_type": "code",
   "execution_count": 28,
   "metadata": {
    "collapsed": false
   },
   "outputs": [
    {
     "name": "stdout",
     "output_type": "stream",
     "text": [
      "Line count in genome file (used for relationship estimation): ['13330867 clean-merged_neighbor.genome']\n",
      "FID1\tIID1\tFID2\tIID2\tRT\tEZ\tZ0\tZ1\tZ2\tPI_HAT\tPHE\tDST\tPPC\tRATIO\r\n",
      "ME8001\tME8001\tME8002\tME8002\tUN\tNA\t1.0000\t0.0000\t0.0000\t0.0000\tNA\t0.745242\t0.0535\t1.8941\r\n",
      "ME8001\tME8001\tME8003\tME8003\tUN\tNA\t1.0000\t0.0000\t0.0000\t0.0000\tNA\t0.744817\t0.0055\t1.8363\r\n",
      "ME8001\tME8001\tME8004\tME8004\tUN\tNA\t1.0000\t0.0000\t0.0000\t0.0000\tNA\t0.746071\t0.5046\t2.0008\r\n",
      "ME8001\tME8001\tME8005\tME8005\tUN\tNA\t1.0000\t0.0000\t0.0000\t0.0000\tNA\t0.747932\t0.0500\t1.8920\r\n",
      "ME8001\tME8001\tME8006\tME8006\tUN\tNA\t1.0000\t0.0000\t0.0000\t0.0000\tNA\t0.746616\t0.2204\t1.9484\r\n",
      "ME8001\tME8001\tME8007\tME8007\tUN\tNA\t1.0000\t0.0000\t0.0000\t0.0000\tNA\t0.747042\t0.2199\t1.9482\r\n",
      "ME8001\tME8001\tME8008\tME8008\tUN\tNA\t1.0000\t0.0000\t0.0000\t0.0000\tNA\t0.745406\t0.0870\t1.9104\r\n",
      "ME8001\tME8001\tME8009\tME8009\tUN\tNA\t1.0000\t0.0000\t0.0000\t0.0000\tNA\t0.744062\t0.0177\t1.8630\r\n",
      "ME8001\tME8001\tME8010\tME8010\tUN\tNA\t1.0000\t0.0000\t0.0000\t0.0000\tNA\t0.745033\t0.0328\t1.8795\r\n"
     ]
    }
   ],
   "source": [
    "genome_file = output_filestem + '.genome'\n",
    "#Clean up the whitespace:\n",
    "!perl -i.bak -lpe 's/^\\s+//; s/\\s+/\\t/g;' $genome_file\n",
    "genome_file_line_count = !wc -l $genome_file\n",
    "print \"Line count in genome file (used for relationship estimation): \" + str(genome_file_line_count)\n",
    "!head $genome_file"
   ]
  },
  {
   "cell_type": "code",
   "execution_count": 29,
   "metadata": {
    "collapsed": false
   },
   "outputs": [
    {
     "name": "stdout",
     "output_type": "stream",
     "text": [
      "Number of samples that failed IBD QC: ['193']\n"
     ]
    }
   ],
   "source": [
    "'''Generate a file containing FID:IID pairs of individuals to be excluded on the basis of relatedness.\n",
    "Exclude the individual with greater missingness from any pair of individuals that are related more than first cousins.'''\n",
    "imiss, removed = dict(), set()\n",
    "\n",
    "with open(imiss_file) as imiss_in, open(genome_file) as genome_in, open('fail-IBD-QC.txt', 'w') as fail_IBD_out:\n",
    "    #Read the missingness into a dictionary.\n",
    "    header = imiss_in.readline()\n",
    "    for line in imiss_in:\n",
    "        fid, iid, miss_pheno, n_miss, n_geno, f_miss = line.rstrip().split(\"\\t\") #File was already whitespace-cleaned.\n",
    "        imiss[(fid, iid)] = float(f_miss) #Key by FID:IID tuple, value by F_MISS (missing frequency).\n",
    "        \n",
    "    #Now exclude related samples. Drop whichever one has higher missingness.\n",
    "    header = genome_in.readline()\n",
    "    for line in genome_in:\n",
    "        fid1, iid1, fid2, iid2, rt, ez, z0, z1, z2, pi_hat, phe, dst, ppc, ratio = line.rstrip().split(\"\\t\")\n",
    "        if float(pi_hat) > 0.185:\n",
    "            if imiss[(fid1, iid1)] >= imiss[(fid2, iid2)]: #The first sample has higher missingness.\n",
    "                if (fid1, iid1) not in removed:\n",
    "                    fail_IBD_out.write(\"\\t\".join([fid1, iid1]) + \"\\n\")\n",
    "                    removed.add((fid1, iid1)) #Remember that we already excluded this FID:IID pair.\n",
    "            else: #The second sample has higher missingness.\n",
    "                if (fid2, iid2) not in removed:\n",
    "                    fail_IBD_out.write(\"\\t\".join([fid2, iid2]) + \"\\n\")\n",
    "                    removed.add((fid2, iid2))\n",
    "\n",
    "fail_IBD_count = !cat fail-IBD-QC.txt | wc -l\n",
    "print \"Number of samples that failed IBD QC: \" + str(fail_IBD_count)"
   ]
  },
  {
   "cell_type": "code",
   "execution_count": 30,
   "metadata": {
    "collapsed": false
   },
   "outputs": [
    {
     "name": "stdout",
     "output_type": "stream",
     "text": [
      "PLINK v1.90b3.45 64-bit (13 Jan 2017)      https://www.cog-genomics.org/plink2\n",
      "(C) 2005-2017 Shaun Purcell, Christopher Chang   GNU General Public License v3\n",
      "Logging to clean-merged_neighbor.log.\n",
      "Options in effect:\n",
      "  --bfile clean-merged_neighbor\n",
      "  --make-bed\n",
      "  --out clean-merged_neighbor\n",
      "  --remove fail-IBD-QC.txt\n",
      "\n",
      "995 MB RAM detected; reserving 497 MB for main workspace.\n",
      "Note: --make-bed input and output filenames match.  Appending '~' to input\n",
      "filenames.\n",
      "528467 variants loaded from .bim file.\n",
      "5164 people (2291 males, 2742 females, 131 ambiguous) loaded from .fam.\n",
      "Ambiguous sex IDs written to clean-merged_neighbor.nosex .\n",
      "5033 phenotype values loaded from .fam.\n",
      "--remove: 4971 people remaining.\n",
      "Using 1 thread.\n",
      "Before main variant filters, 4971 founders and 0 nonfounders present.\n",
      "Calculating allele frequencies... 0%\b\b1%\b\b2%\b\b3%\b\b4%\b\b5%\b\b6%\b\b7%\b\b8%\b\b9%\b\b10%\b\b\b11%\b\b\b12%\b\b\b13%\b\b\b14%\b\b\b15%\b\b\b16%\b\b\b17%\b\b\b18%\b\b\b19%\b\b\b20%\b\b\b21%\b\b\b22%\b\b\b23%\b\b\b24%\b\b\b25%\b\b\b26%\b\b\b27%\b\b\b28%\b\b\b29%\b\b\b30%\b\b\b31%\b\b\b32%\b\b\b33%\b\b\b34%\b\b\b35%\b\b\b36%\b\b\b37%\b\b\b38%\b\b\b39%\b\b\b40%\b\b\b41%\b\b\b42%\b\b\b43%\b\b\b44%\b\b\b45%\b\b\b46%\b\b\b47%\b\b\b48%\b\b\b49%\b\b\b50%\b\b\b51%\b\b\b52%\b\b\b53%\b\b\b54%\b\b\b55%\b\b\b56%\b\b\b57%\b\b\b58%\b\b\b59%\b\b\b60%\b\b\b61%\b\b\b62%\b\b\b63%\b\b\b64%\b\b\b65%\b\b\b66%\b\b\b67%\b\b\b68%\b\b\b69%\b\b\b70%\b\b\b71%\b\b\b72%\b\b\b73%\b\b\b74%\b\b\b75%\b\b\b76%\b\b\b77%\b\b\b78%\b\b\b79%\b\b\b80%\b\b\b81%\b\b\b82%\b\b\b83%\b\b\b84%\b\b\b85%\b\b\b86%\b\b\b87%\b\b\b88%\b\b\b89%\b\b\b90%\b\b\b91%\b\b\b92%\b\b\b93%\b\b\b94%\b\b\b95%\b\b\b96%\b\b\b97%\b\b\b98%\b\b\b99%\b\b\b\b done.\n",
      "Warning: 11441 het. haploid genotypes present (see clean-merged_neighbor.hh );\n",
      "many commands treat these as missing.\n",
      "Warning: Nonmissing nonmale Y chromosome genotype(s) present; many commands\n",
      "treat these as missing.\n",
      "Total genotyping rate in remaining samples is 0.99954.\n",
      "528467 variants and 4971 people pass filters and QC.\n",
      "Phenotype data is quantitative.\n",
      "--make-bed to clean-merged_neighbor.bed + clean-merged_neighbor.bim +\n",
      "clean-merged_neighbor.fam ... 0%\b\b1%\b\b2%\b\b3%\b\b4%\b\b5%\b\b6%\b\b7%\b\b8%\b\b9%\b\b10%\b\b\b11%\b\b\b12%\b\b\b13%\b\b\b14%\b\b\b15%\b\b\b16%\b\b\b17%\b\b\b18%\b\b\b19%\b\b\b20%\b\b\b21%\b\b\b22%\b\b\b23%\b\b\b24%\b\b\b25%\b\b\b26%\b\b\b27%\b\b\b28%\b\b\b29%\b\b\b30%\b\b\b31%\b\b\b32%\b\b\b33%\b\b\b34%\b\b\b35%\b\b\b36%\b\b\b37%\b\b\b38%\b\b\b39%\b\b\b40%\b\b\b41%\b\b\b42%\b\b\b43%\b\b\b44%\b\b\b45%\b\b\b46%\b\b\b47%\b\b\b48%\b\b\b49%\b\b\b50%\b\b\b51%\b\b\b52%\b\b\b53%\b\b\b54%\b\b\b55%\b\b\b56%\b\b\b57%\b\b\b58%\b\b\b59%\b\b\b60%\b\b\b61%\b\b\b62%\b\b\b63%\b\b\b64%\b\b\b65%\b\b\b66%\b\b\b67%\b\b\b68%\b\b\b69%\b\b\b70%\b\b\b71%\b\b\b72%\b\b\b73%\b\b\b74%\b\b\b75%\b\b\b76%\b\b\b77%\b\b\b78%\b\b\b79%\b\b\b80%\b\b\b81%\b\b\b82%\b\b\b83%\b\b\b84%\b\b\b85%\b\b\b86%\b\b\b87%\b\b\b88%\b\b\b89%\b\b\b90%\b\b\b91%\b\b\b92%\b\b\b93%\b\b\b94%\b\b\b95%\b\b\b96%\b\b\b97%\b\b\b98%\b\b\b99%\b\b\bdone.\n"
     ]
    }
   ],
   "source": [
    "'''Now exclude the related samples from the study.'''\n",
    "!plink --bfile $output_filestem --remove fail-IBD-QC.txt --make-bed --out $output_filestem"
   ]
  },
  {
   "cell_type": "code",
   "execution_count": 31,
   "metadata": {
    "collapsed": false
   },
   "outputs": [
    {
     "name": "stdout",
     "output_type": "stream",
     "text": [
      "PLINK v1.90b3.45 64-bit (13 Jan 2017)      https://www.cog-genomics.org/plink2\n",
      "(C) 2005-2017 Shaun Purcell, Christopher Chang   GNU General Public License v3\n",
      "Logging to clean-merged_neighbor.log.\n",
      "Options in effect:\n",
      "  --bfile clean-merged_neighbor\n",
      "  --geno 0.01\n",
      "  --make-bed\n",
      "  --out clean-merged_neighbor\n",
      "\n",
      "995 MB RAM detected; reserving 497 MB for main workspace.\n",
      "Note: --make-bed input and output filenames match.  Appending '~' to input\n",
      "filenames.\n",
      "528467 variants loaded from .bim file.\n",
      "4971 people (2245 males, 2655 females, 71 ambiguous) loaded from .fam.\n",
      "Ambiguous sex IDs written to clean-merged_neighbor.nosex .\n",
      "4900 phenotype values loaded from .fam.\n",
      "Using 1 thread.\n",
      "Before main variant filters, 4971 founders and 0 nonfounders present.\n",
      "Calculating allele frequencies... 0%\b\b1%\b\b2%\b\b3%\b\b4%\b\b5%\b\b6%\b\b7%\b\b8%\b\b9%\b\b10%\b\b\b11%\b\b\b12%\b\b\b13%\b\b\b14%\b\b\b15%\b\b\b16%\b\b\b17%\b\b\b18%\b\b\b19%\b\b\b20%\b\b\b21%\b\b\b22%\b\b\b23%\b\b\b24%\b\b\b25%\b\b\b26%\b\b\b27%\b\b\b28%\b\b\b29%\b\b\b30%\b\b\b31%\b\b\b32%\b\b\b33%\b\b\b34%\b\b\b35%\b\b\b36%\b\b\b37%\b\b\b38%\b\b\b39%\b\b\b40%\b\b\b41%\b\b\b42%\b\b\b43%\b\b\b44%\b\b\b45%\b\b\b46%\b\b\b47%\b\b\b48%\b\b\b49%\b\b\b50%\b\b\b51%\b\b\b52%\b\b\b53%\b\b\b54%\b\b\b55%\b\b\b56%\b\b\b57%\b\b\b58%\b\b\b59%\b\b\b60%\b\b\b61%\b\b\b62%\b\b\b63%\b\b\b64%\b\b\b65%\b\b\b66%\b\b\b67%\b\b\b68%\b\b\b69%\b\b\b70%\b\b\b71%\b\b\b72%\b\b\b73%\b\b\b74%\b\b\b75%\b\b\b76%\b\b\b77%\b\b\b78%\b\b\b79%\b\b\b80%\b\b\b81%\b\b\b82%\b\b\b83%\b\b\b84%\b\b\b85%\b\b\b86%\b\b\b87%\b\b\b88%\b\b\b89%\b\b\b90%\b\b\b91%\b\b\b92%\b\b\b93%\b\b\b94%\b\b\b95%\b\b\b96%\b\b\b97%\b\b\b98%\b\b\b99%\b\b\b\b done.\n",
      "Warning: 11441 het. haploid genotypes present (see clean-merged_neighbor.hh );\n",
      "many commands treat these as missing.\n",
      "Warning: Nonmissing nonmale Y chromosome genotype(s) present; many commands\n",
      "treat these as missing.\n",
      "Total genotyping rate is 0.99954.\n",
      "25 variants removed due to missing genotype data (--geno).\n",
      "528442 variants and 4971 people pass filters and QC.\n",
      "Phenotype data is quantitative.\n",
      "--make-bed to clean-merged_neighbor.bed + clean-merged_neighbor.bim +\n",
      "clean-merged_neighbor.fam ... 0%\b\b1%\b\b2%\b\b3%\b\b4%\b\b5%\b\b6%\b\b7%\b\b8%\b\b9%\b\b10%\b\b\b11%\b\b\b12%\b\b\b13%\b\b\b14%\b\b\b15%\b\b\b16%\b\b\b17%\b\b\b18%\b\b\b19%\b\b\b20%\b\b\b21%\b\b\b22%\b\b\b23%\b\b\b24%\b\b\b25%\b\b\b26%\b\b\b27%\b\b\b28%\b\b\b29%\b\b\b30%\b\b\b31%\b\b\b32%\b\b\b33%\b\b\b34%\b\b\b35%\b\b\b36%\b\b\b37%\b\b\b38%\b\b\b39%\b\b\b40%\b\b\b41%\b\b\b42%\b\b\b43%\b\b\b44%\b\b\b45%\b\b\b46%\b\b\b47%\b\b\b48%\b\b\b49%\b\b\b50%\b\b\b51%\b\b\b52%\b\b\b53%\b\b\b54%\b\b\b55%\b\b\b56%\b\b\b57%\b\b\b58%\b\b\b59%\b\b\b60%\b\b\b61%\b\b\b62%\b\b\b63%\b\b\b64%\b\b\b65%\b\b\b66%\b\b\b67%\b\b\b68%\b\b\b69%\b\b\b70%\b\b\b71%\b\b\b72%\b\b\b73%\b\b\b74%\b\b\b75%\b\b\b76%\b\b\b77%\b\b\b78%\b\b\b79%\b\b\b80%\b\b\b81%\b\b\b82%\b\b\b83%\b\b\b84%\b\b\b85%\b\b\b86%\b\b\b87%\b\b\b88%\b\b\b89%\b\b\b90%\b\b\b91%\b\b\b92%\b\b\b93%\b\b\b94%\b\b\b95%\b\b\b96%\b\b\b97%\b\b\b98%\b\b\b99%\b\b\bdone.\n"
     ]
    }
   ],
   "source": [
    "'''Now that related samples have been excluded, repeat the marker callrate, sample callrate, and MAF filtering.'''\n",
    "\n",
    "'''Exclude genetic variants that are not present in at least 99% of samples.'''\n",
    "!plink --bfile $output_filestem --geno 0.01 --make-bed --out $output_filestem"
   ]
  },
  {
   "cell_type": "code",
   "execution_count": 32,
   "metadata": {
    "collapsed": false
   },
   "outputs": [
    {
     "name": "stdout",
     "output_type": "stream",
     "text": [
      "PLINK v1.90b3.45 64-bit (13 Jan 2017)      https://www.cog-genomics.org/plink2\n",
      "(C) 2005-2017 Shaun Purcell, Christopher Chang   GNU General Public License v3\n",
      "Logging to clean-merged_neighbor.log.\n",
      "Options in effect:\n",
      "  --bfile clean-merged_neighbor\n",
      "  --missing\n",
      "  --out clean-merged_neighbor\n",
      "\n",
      "995 MB RAM detected; reserving 497 MB for main workspace.\n",
      "528442 variants loaded from .bim file.\n",
      "4971 people (2245 males, 2655 females, 71 ambiguous) loaded from .fam.\n",
      "Ambiguous sex IDs written to clean-merged_neighbor.nosex .\n",
      "4900 phenotype values loaded from .fam.\n",
      "Using 1 thread.\n",
      "Before main variant filters, 4971 founders and 0 nonfounders present.\n",
      "Calculating allele frequencies... 0%\b\b1%\b\b2%\b\b3%\b\b4%\b\b5%\b\b6%\b\b7%\b\b8%\b\b9%\b\b10%\b\b\b11%\b\b\b12%\b\b\b13%\b\b\b14%\b\b\b15%\b\b\b16%\b\b\b17%\b\b\b18%\b\b\b19%\b\b\b20%\b\b\b21%\b\b\b22%\b\b\b23%\b\b\b24%\b\b\b25%\b\b\b26%\b\b\b27%\b\b\b28%\b\b\b29%\b\b\b30%\b\b\b31%\b\b\b32%\b\b\b33%\b\b\b34%\b\b\b35%\b\b\b36%\b\b\b37%\b\b\b38%\b\b\b39%\b\b\b40%\b\b\b41%\b\b\b42%\b\b\b43%\b\b\b44%\b\b\b45%\b\b\b46%\b\b\b47%\b\b\b48%\b\b\b49%\b\b\b50%\b\b\b51%\b\b\b52%\b\b\b53%\b\b\b54%\b\b\b55%\b\b\b56%\b\b\b57%\b\b\b58%\b\b\b59%\b\b\b60%\b\b\b61%\b\b\b62%\b\b\b63%\b\b\b64%\b\b\b65%\b\b\b66%\b\b\b67%\b\b\b68%\b\b\b69%\b\b\b70%\b\b\b71%\b\b\b72%\b\b\b73%\b\b\b74%\b\b\b75%\b\b\b76%\b\b\b77%\b\b\b78%\b\b\b79%\b\b\b80%\b\b\b81%\b\b\b82%\b\b\b83%\b\b\b84%\b\b\b85%\b\b\b86%\b\b\b87%\b\b\b88%\b\b\b89%\b\b\b90%\b\b\b91%\b\b\b92%\b\b\b93%\b\b\b94%\b\b\b95%\b\b\b96%\b\b\b97%\b\b\b98%\b\b\b99%\b\b\b\b done.\n",
      "Warning: 11436 het. haploid genotypes present (see clean-merged_neighbor.hh );\n",
      "many commands treat these as missing.\n",
      "Warning: Nonmissing nonmale Y chromosome genotype(s) present; many commands\n",
      "treat these as missing.\n",
      "Total genotyping rate is 0.999541.\n",
      "--missing: Sample missing data report written to clean-merged_neighbor.imiss,\n",
      "and variant-based missing data report written to clean-merged_neighbor.lmiss.\n"
     ]
    }
   ],
   "source": [
    "'''Exclude individuals with less than 99% callrate (1% or more of genetic variants are missing in that sample).'''\n",
    "#First, generate missingness reports:\n",
    "!plink --bfile $output_filestem --missing --out $output_filestem\n",
    "imiss_file = output_filestem + '.imiss'\n",
    "#Clean up the whitespace:\n",
    "!perl -i.bak -lpe 's/^\\s+//; s/\\s+/\\t/g;' $imiss_file"
   ]
  },
  {
   "cell_type": "code",
   "execution_count": null,
   "metadata": {
    "collapsed": false
   },
   "outputs": [],
   "source": []
  },
  {
   "cell_type": "code",
   "execution_count": null,
   "metadata": {
    "collapsed": true
   },
   "outputs": [],
   "source": []
  }
 ],
 "metadata": {
  "kernelspec": {
   "display_name": "Python 2",
   "language": "python",
   "name": "python2"
  },
  "language_info": {
   "codemirror_mode": {
    "name": "ipython",
    "version": 2
   },
   "file_extension": ".py",
   "mimetype": "text/x-python",
   "name": "python",
   "nbconvert_exporter": "python",
   "pygments_lexer": "ipython2",
   "version": "2.7.11"
  }
 },
 "nbformat": 4,
 "nbformat_minor": 2
}
